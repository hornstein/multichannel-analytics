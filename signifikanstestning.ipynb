{
 "nbformat": 4,
 "nbformat_minor": 2,
 "metadata": {
  "language_info": {
   "name": "python",
   "codemirror_mode": {
    "name": "ipython",
    "version": 2
   }
  },
  "orig_nbformat": 2,
  "file_extension": ".py",
  "mimetype": "text/x-python",
  "name": "python",
  "npconvert_exporter": "python",
  "pygments_lexer": "ipython2",
  "version": 2
 },
 "cells": [
  {
   "cell_type": "markdown",
   "execution_count": null,
   "metadata": {},
   "outputs": [],
   "source": [
    "# Signifikanstestning\n",
    "\n",
    "Innan vi ger en rekommendation så bör vi kontrollera att det rör sig om en statistiskt säkerställd skillnad och inte bara en slumpmässig variation.\n",
    "\n",
    "Här tittar vi på hur man kan göra detta från en Jupyter notebook. Det första vi behöver göra är att importera ett antal Python-bibliotek som låter oss läsa in data från Google Analytics, samt enklare kunna hantera vår data. \n"
   ]
  },
  {
   "cell_type": "code",
   "execution_count": 47,
   "metadata": {},
   "outputs": [
    {
     "name": "stdout",
     "output_type": "stream",
     "text": "/home/ros/.local/lib/python2.7/site-packages/pip/_vendor/requests/__init__.py:83: RequestsDependencyWarning: Old version of cryptography ([1, 2, 3]) may cause slowdown.\n  warnings.warn(warning, RequestsDependencyWarning)\n\u001b[33mDEPRECATION: Python 2.7 will reach the end of its life on January 1st, 2020. Please upgrade your Python as Python 2.7 won't be maintained after that date. A future version of pip will drop support for Python 2.7. More details about Python 2 support in pip, can be found at https://pip.pypa.io/en/latest/development/release-process/#python-2-support\u001b[0m\nRequirement already satisfied: requests in /home/ros/.local/lib/python2.7/site-packages (2.22.0)\nRequirement already satisfied: urllib3!=1.25.0,!=1.25.1,<1.26,>=1.21.1 in /home/ros/.local/lib/python2.7/site-packages (from requests) (1.25.6)\nRequirement already satisfied: certifi>=2017.4.17 in /home/ros/.local/lib/python2.7/site-packages (from requests) (2019.9.11)\nRequirement already satisfied: chardet<3.1.0,>=3.0.2 in /home/ros/.local/lib/python2.7/site-packages (from requests) (3.0.4)\nRequirement already satisfied: idna<2.9,>=2.5 in /home/ros/.local/lib/python2.7/site-packages (from requests) (2.8)\n\u001b[33mWARNING: You are using pip version 19.2.3, however version 19.3.1 is available.\nYou should consider upgrading via the 'pip install --upgrade pip' command.\u001b[0m\n"
    }
   ],
   "source": [
    "import sys\n",
    "!{sys.executable} -m pip install requests --user\n",
    "\n",
    "import pandas as pd \n",
    "import json\n",
    "import requests"
   ]
  },
  {
   "cell_type": "markdown",
   "execution_count": null,
   "metadata": {},
   "outputs": [],
   "source": [
    "## Fishers exakta test\n",
    "\n",
    "Har man väldigt lite data kan man använda sig av Fishers exakta test. \n",
    "\n",
    "Låt oss använda detta för att kolla om det är någon statistisk skillnad i bounce rate mellan besökare som kommer från sociala media och användare som kommer via referral.\n",
    "\n",
    "I det här fallet är vi intresserade av att läsa in totalt antal sessions och totalt antal bounces för\n",
    "Vi använder oss av Google Analytics Query Explorer för att välja ut den data vi vill läsa in:\n",
    "\n",
    "https://ga-dev-tools.appspot.com/query-explorer/?ids=ga%3A130903410&start-date=30daysAgo&end-date=yesterday&metrics=ga%3Asessions%2Cga%3Abounces&dimensions=ga%3AchannelGrouping\n",
    "\n",
    "Query explorer låter oss enkelt välja ut den data vi vill ha och längst ner på sidan hittar vi en länk till det API som används för att läsa ut data. Vi kan kopiera den länken och sedan göra ett anrop till denna med Python för att läsa in datan i vår notebook.\n",
    "\n"
   ]
  },
  {
   "cell_type": "code",
   "execution_count": 58,
   "metadata": {},
   "outputs": [
    {
     "data": {
      "text/html": "<div>\n<style scoped>\n    .dataframe tbody tr th:only-of-type {\n        vertical-align: middle;\n    }\n\n    .dataframe tbody tr th {\n        vertical-align: top;\n    }\n\n    .dataframe thead th {\n        text-align: right;\n    }\n</style>\n<table border=\"1\" class=\"dataframe\">\n  <thead>\n    <tr style=\"text-align: right;\">\n      <th></th>\n      <th>Channel</th>\n      <th>Sessions</th>\n      <th>Bounces</th>\n    </tr>\n  </thead>\n  <tbody>\n    <tr>\n      <th>0</th>\n      <td>(Other)</td>\n      <td>137</td>\n      <td>39</td>\n    </tr>\n    <tr>\n      <th>1</th>\n      <td>Direct</td>\n      <td>315</td>\n      <td>94</td>\n    </tr>\n    <tr>\n      <th>2</th>\n      <td>Display</td>\n      <td>5</td>\n      <td>3</td>\n    </tr>\n    <tr>\n      <th>3</th>\n      <td>Email</td>\n      <td>146</td>\n      <td>62</td>\n    </tr>\n    <tr>\n      <th>4</th>\n      <td>Organic Search</td>\n      <td>146</td>\n      <td>60</td>\n    </tr>\n    <tr>\n      <th>5</th>\n      <td>Paid Search</td>\n      <td>2</td>\n      <td>1</td>\n    </tr>\n    <tr>\n      <th>6</th>\n      <td>Referral</td>\n      <td>466</td>\n      <td>169</td>\n    </tr>\n    <tr>\n      <th>7</th>\n      <td>Social</td>\n      <td>193</td>\n      <td>104</td>\n    </tr>\n  </tbody>\n</table>\n</div>",
      "text/plain": "          Channel  Sessions  Bounces\n0         (Other)       137       39\n1          Direct       315       94\n2         Display         5        3\n3           Email       146       62\n4  Organic Search       146       60\n5     Paid Search         2        1\n6        Referral       466      169\n7          Social       193      104"
     },
     "execution_count": 58,
     "metadata": {},
     "output_type": "execute_result"
    }
   ],
   "source": [
    "\n",
    "\n",
    "r = requests.get('https://www.googleapis.com/analytics/v3/data/ga?ids=ga%3A130903410&start-date=30daysAgo&end-date=yesterday&metrics=ga%3Asessions%2Cga%3Abounces&dimensions=ga%3AchannelGrouping&access_token=ya29.Il-vB6a4yiK_LRwQpZDdOjJqPDgvmAdkhqPW9AD3LjOkzFGyYNqfdMWArsnRimP1o56ZhFDRn2ysiphKaNzvJQ6dp9Y2k6dnpEUOfb9JocYi4PEE784R0oD2MRcu3-tJ4Q')\n",
    "\n",
    "data = r.json() # read data from a JSON format\n",
    "df = pd.DataFrame(data['rows']) # turn data into a Pandas data frame\n",
    "df = df.rename(columns={0: 'Channel', 1: 'Sessions', 2: 'Bounces'}) # giving the columns some proper titles\n",
    "df['Sessions'] = df['Sessions'].astype(int) # formatting sessions as ints\n",
    "df['Bounces'] = df['Bounces'].astype(int) # formatting users as ints\n",
    "\n",
    "df # printing the first five rows\n"
   ]
  },
  {
   "cell_type": "code",
   "execution_count": 61,
   "metadata": {},
   "outputs": [
    {
     "name": "stdout",
     "output_type": "stream",
     "text": "104\n89\n169\n297\n"
    }
   ],
   "source": [
    "\n",
    "social = df[df.Channel == 'Social']\n",
    "social_bounces = social['Bounces'].values[0]\n",
    "social_non_bounces = social['Sessions'].values[0] - social['Bounces'].values[0]\n",
    "\n",
    "print (social_bounces)\n",
    "print (social_non_bounces) \n",
    "\n",
    "referral = df[df.Channel == 'Referral']\n",
    "referral_bounces = referral['Bounces'].values[0]\n",
    "referral_non_bounces = referral['Sessions'].values[0] - referral['Bounces'].values[0]\n",
    "\n",
    "print (referral_bounces)\n",
    "print (referral_non_bounces) \n"
   ]
  },
  {
   "cell_type": "code",
   "execution_count": 62,
   "metadata": {},
   "outputs": [
    {
     "name": "stdout",
     "output_type": "stream",
     "text": "4.1473086347635335e-05\n"
    }
   ],
   "source": [
    "import scipy.stats as stats\n",
    "\n",
    "oddsratio, pvalue = stats.fisher_exact([[social_bounces, referral_bounces], [social_non_bounces, referral_non_bounces]])\n",
    "\n",
    "print (pvalue)"
   ]
  },
  {
   "cell_type": "code",
   "execution_count": null,
   "metadata": {},
   "outputs": [],
   "source": []
  }
 ]
}