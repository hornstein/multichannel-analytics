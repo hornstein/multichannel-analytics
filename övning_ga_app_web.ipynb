{
  "nbformat": 4,
  "nbformat_minor": 0,
  "metadata": {
    "colab": {
      "name": "övning_ga_app_web.ipynb",
      "provenance": []
    },
    "kernelspec": {
      "name": "python3",
      "display_name": "Python 3"
    }
  },
  "cells": [
    {
      "cell_type": "markdown",
      "metadata": {
        "id": "0xfr6-qGU1a8",
        "colab_type": "text"
      },
      "source": [
        "# Övning: läsa GA App+Web data från BigQuery\n",
        "\n",
        "I den här övningen kommer vi att träna på att hämta ut Google Analytics App+Web data från BigQuery och presentera denna i en Jupyter notebook. Innan vi börjar med en specifik uppgift ser vi till att vi kopplat upp oss mot vårt BigQuery-konto:\n"
      ]
    },
    {
      "cell_type": "code",
      "metadata": {
        "id": "tq07Za-C-WVp",
        "colab_type": "code",
        "colab": {
          "base_uri": "https://localhost:8080/",
          "height": 34
        },
        "outputId": "16779329-99c3-4863-f5cc-54f702fd721c"
      },
      "source": [
        "from google.colab import auth\n",
        "auth.authenticate_user()\n",
        "print('Authenticated')"
      ],
      "execution_count": 38,
      "outputs": [
        {
          "output_type": "stream",
          "text": [
            "Authenticated\n"
          ],
          "name": "stdout"
        }
      ]
    },
    {
      "cell_type": "markdown",
      "metadata": {
        "id": "lC7I3vi4ZB2v",
        "colab_type": "text"
      },
      "source": [
        "##Uppgift 1: Visa antal unika besökare på webbsajten per dag\n",
        "\n",
        "I den här uppgiften skall vi ta fram antalet unika besökare på vår SquadFree webbsajt (https://hornstein.github.io) som vi tidigare taggat upp i Tag manager och kopplat ihop med BigQuery via integrationen i Firebase. \n",
        "\n",
        "Firebase skapar en tabell per dag. För att söka i alla tabeller för t.ex. november kan vi använda oss av en wildcard (*) när vi anger tabellnamnet.\n",
        "\n",
        "Eftersom vi har både en mobilapp (Bluebottles väderapp SurfsApp) och en webbsajt (SquadFree) så använder vi en where-sats för att enbart ta med rader som kommer från webbsajten."
      ]
    },
    {
      "cell_type": "code",
      "metadata": {
        "id": "ewBpC15V_HLT",
        "colab_type": "code",
        "colab": {}
      },
      "source": [
        "%%bigquery --project surfsapp-8011b df\n",
        "\n",
        "SELECT event_date, count(distinct user_pseudo_id) AS users \n",
        "FROM `surfsapp-8011b.analytics_164498740.events_201911*`\n",
        "WHERE platform='WEB'\n",
        "GROUP BY event_date\n",
        "ORDER BY event_date\n"
      ],
      "execution_count": 0,
      "outputs": []
    },
    {
      "cell_type": "code",
      "metadata": {
        "id": "fpCbSsMG_ds2",
        "colab_type": "code",
        "colab": {
          "base_uri": "https://localhost:8080/",
          "height": 300
        },
        "outputId": "606ae570-64a6-4b1f-c379-b4ba63ec7bea"
      },
      "source": [
        "df"
      ],
      "execution_count": 40,
      "outputs": [
        {
          "output_type": "execute_result",
          "data": {
            "text/html": [
              "<div>\n",
              "<style scoped>\n",
              "    .dataframe tbody tr th:only-of-type {\n",
              "        vertical-align: middle;\n",
              "    }\n",
              "\n",
              "    .dataframe tbody tr th {\n",
              "        vertical-align: top;\n",
              "    }\n",
              "\n",
              "    .dataframe thead th {\n",
              "        text-align: right;\n",
              "    }\n",
              "</style>\n",
              "<table border=\"1\" class=\"dataframe\">\n",
              "  <thead>\n",
              "    <tr style=\"text-align: right;\">\n",
              "      <th></th>\n",
              "      <th>event_date</th>\n",
              "      <th>users</th>\n",
              "    </tr>\n",
              "  </thead>\n",
              "  <tbody>\n",
              "    <tr>\n",
              "      <th>0</th>\n",
              "      <td>20191113</td>\n",
              "      <td>2</td>\n",
              "    </tr>\n",
              "    <tr>\n",
              "      <th>1</th>\n",
              "      <td>20191114</td>\n",
              "      <td>2</td>\n",
              "    </tr>\n",
              "    <tr>\n",
              "      <th>2</th>\n",
              "      <td>20191115</td>\n",
              "      <td>1</td>\n",
              "    </tr>\n",
              "    <tr>\n",
              "      <th>3</th>\n",
              "      <td>20191116</td>\n",
              "      <td>1</td>\n",
              "    </tr>\n",
              "    <tr>\n",
              "      <th>4</th>\n",
              "      <td>20191117</td>\n",
              "      <td>1</td>\n",
              "    </tr>\n",
              "    <tr>\n",
              "      <th>5</th>\n",
              "      <td>20191118</td>\n",
              "      <td>2</td>\n",
              "    </tr>\n",
              "    <tr>\n",
              "      <th>6</th>\n",
              "      <td>20191119</td>\n",
              "      <td>2</td>\n",
              "    </tr>\n",
              "    <tr>\n",
              "      <th>7</th>\n",
              "      <td>20191120</td>\n",
              "      <td>2</td>\n",
              "    </tr>\n",
              "  </tbody>\n",
              "</table>\n",
              "</div>"
            ],
            "text/plain": [
              "  event_date  users\n",
              "0   20191113      2\n",
              "1   20191114      2\n",
              "2   20191115      1\n",
              "3   20191116      1\n",
              "4   20191117      1\n",
              "5   20191118      2\n",
              "6   20191119      2\n",
              "7   20191120      2"
            ]
          },
          "metadata": {
            "tags": []
          },
          "execution_count": 40
        }
      ]
    },
    {
      "cell_type": "markdown",
      "metadata": {
        "id": "4O8RneTIdGOF",
        "colab_type": "text"
      },
      "source": [
        "Vi kan skapa en enkel plot med matplotlib:"
      ]
    },
    {
      "cell_type": "code",
      "metadata": {
        "id": "gFEv0lyqGGsU",
        "colab_type": "code",
        "colab": {
          "base_uri": "https://localhost:8080/",
          "height": 265
        },
        "outputId": "38b35c86-948b-4d7c-af53-77a40325f8b3"
      },
      "source": [
        "import matplotlib.pyplot as plt\n",
        "\n",
        "plt.plot(df['event_date'], df['users']);"
      ],
      "execution_count": 41,
      "outputs": [
        {
          "output_type": "display_data",
          "data": {
            "image/png": "[encoded data removed]",
            "text/plain": [
              "<Figure size 432x288 with 1 Axes>"
            ]
          },
          "metadata": {
            "tags": []
          }
        }
      ]
    },
    {
      "cell_type": "markdown",
      "metadata": {
        "id": "g_FaRhuXdLwA",
        "colab_type": "text"
      },
      "source": [
        "För att skapa snyggare grafer kan vi använda oss av seaborn biblioteket:"
      ]
    },
    {
      "cell_type": "code",
      "metadata": {
        "id": "clOya450bIML",
        "colab_type": "code",
        "colab": {
          "base_uri": "https://localhost:8080/",
          "height": 313
        },
        "outputId": "a52ca047-3e7b-4c36-a8c0-1cdb60ca2209"
      },
      "source": [
        "import seaborn as sns\n",
        "chart=sns.barplot(x = 'event_date', y = 'users', data = df)\n",
        "chart.set_xticklabels(chart.get_xticklabels(), rotation=45);"
      ],
      "execution_count": 42,
      "outputs": [
        {
          "output_type": "display_data",
          "data": {
            "image/png": "[encoded data removed]",
            "text/plain": [
              "<Figure size 432x288 with 1 Axes>"
            ]
          },
          "metadata": {
            "tags": []
          }
        }
      ]
    },
    {
      "cell_type": "markdown",
      "metadata": {
        "id": "CcscKnOYdRiR",
        "colab_type": "text"
      },
      "source": [
        "## Uppgift 2: Visa antal klick per menyalternativ på webbsajten per dag\n",
        "\n",
        "När någon klickar på en meny på sajten så fångar vi det via Tag Manager och skickar ett event med namnet *menu_click* och en parameter *click_url* som innehåller värdet på klick-url:en. Vi kan använda denna för att hitta antalet klick på respektive menyalternativ.\n",
        "\n",
        "Eftersom det kan finnas flera parametrar för varje event så är *event_param* av typen *RECORD*, mode *REPEATED*, och vi behöver därför använda oss av UNNEST för att att komma åt dessa:"
      ]
    },
    {
      "cell_type": "code",
      "metadata": {
        "id": "nbDZH4UxN73v",
        "colab_type": "code",
        "colab": {}
      },
      "source": [
        "%%bigquery --project surfsapp-8011b df2\n",
        "\n",
        "SELECT \n",
        "  event_date, \n",
        "  ep.value.string_value AS url, \n",
        "  count(*) AS clicks \n",
        "FROM `surfsapp-8011b.analytics_164498740.events_201911*`, UNNEST(event_params) as ep\n",
        "WHERE platform='WEB' and ep.key='click_url'\n",
        "GROUP BY event_date, ep.value.string_value \n",
        "ORDER BY event_date\n"
      ],
      "execution_count": 0,
      "outputs": []
    },
    {
      "cell_type": "code",
      "metadata": {
        "id": "PXIyPk51PpO_",
        "colab_type": "code",
        "colab": {
          "base_uri": "https://localhost:8080/",
          "height": 959
        },
        "outputId": "09256e98-078b-44c5-f88c-47fc3d76a09b"
      },
      "source": [
        "df2"
      ],
      "execution_count": 48,
      "outputs": [
        {
          "output_type": "execute_result",
          "data": {
            "text/html": [
              "<div>\n",
              "<style scoped>\n",
              "    .dataframe tbody tr th:only-of-type {\n",
              "        vertical-align: middle;\n",
              "    }\n",
              "\n",
              "    .dataframe tbody tr th {\n",
              "        vertical-align: top;\n",
              "    }\n",
              "\n",
              "    .dataframe thead th {\n",
              "        text-align: right;\n",
              "    }\n",
              "</style>\n",
              "<table border=\"1\" class=\"dataframe\">\n",
              "  <thead>\n",
              "    <tr style=\"text-align: right;\">\n",
              "      <th></th>\n",
              "      <th>event_date</th>\n",
              "      <th>url</th>\n",
              "      <th>clicks</th>\n",
              "    </tr>\n",
              "  </thead>\n",
              "  <tbody>\n",
              "    <tr>\n",
              "      <th>0</th>\n",
              "      <td>20191113</td>\n",
              "      <td>https://hornstein.github.io/#about</td>\n",
              "      <td>11</td>\n",
              "    </tr>\n",
              "    <tr>\n",
              "      <th>1</th>\n",
              "      <td>20191113</td>\n",
              "      <td>https://hornstein.github.io/#service</td>\n",
              "      <td>9</td>\n",
              "    </tr>\n",
              "    <tr>\n",
              "      <th>2</th>\n",
              "      <td>20191113</td>\n",
              "      <td>https://hornstein.github.io/#intro</td>\n",
              "      <td>5</td>\n",
              "    </tr>\n",
              "    <tr>\n",
              "      <th>3</th>\n",
              "      <td>20191113</td>\n",
              "      <td>https://hornstein.github.io/#contact</td>\n",
              "      <td>7</td>\n",
              "    </tr>\n",
              "    <tr>\n",
              "      <th>4</th>\n",
              "      <td>20191113</td>\n",
              "      <td>https://hornstein.github.io/index.html</td>\n",
              "      <td>1</td>\n",
              "    </tr>\n",
              "    <tr>\n",
              "      <th>5</th>\n",
              "      <td>20191113</td>\n",
              "      <td>https://hornstein.github.io/index.html#about</td>\n",
              "      <td>1</td>\n",
              "    </tr>\n",
              "    <tr>\n",
              "      <th>6</th>\n",
              "      <td>20191113</td>\n",
              "      <td>https://hornstein.github.io/index.html#service</td>\n",
              "      <td>1</td>\n",
              "    </tr>\n",
              "    <tr>\n",
              "      <th>7</th>\n",
              "      <td>20191114</td>\n",
              "      <td>https://hornstein.github.io/#intro</td>\n",
              "      <td>5</td>\n",
              "    </tr>\n",
              "    <tr>\n",
              "      <th>8</th>\n",
              "      <td>20191114</td>\n",
              "      <td>https://hornstein.github.io/#about</td>\n",
              "      <td>5</td>\n",
              "    </tr>\n",
              "    <tr>\n",
              "      <th>9</th>\n",
              "      <td>20191114</td>\n",
              "      <td>https://hornstein.github.io/#service</td>\n",
              "      <td>5</td>\n",
              "    </tr>\n",
              "    <tr>\n",
              "      <th>10</th>\n",
              "      <td>20191114</td>\n",
              "      <td>https://hornstein.github.io/#contact</td>\n",
              "      <td>2</td>\n",
              "    </tr>\n",
              "    <tr>\n",
              "      <th>11</th>\n",
              "      <td>20191115</td>\n",
              "      <td>https://hornstein.github.io/#service</td>\n",
              "      <td>1</td>\n",
              "    </tr>\n",
              "    <tr>\n",
              "      <th>12</th>\n",
              "      <td>20191115</td>\n",
              "      <td>https://hornstein.github.io/#contact</td>\n",
              "      <td>1</td>\n",
              "    </tr>\n",
              "    <tr>\n",
              "      <th>13</th>\n",
              "      <td>20191115</td>\n",
              "      <td>https://hornstein.github.io/#intro</td>\n",
              "      <td>1</td>\n",
              "    </tr>\n",
              "    <tr>\n",
              "      <th>14</th>\n",
              "      <td>20191115</td>\n",
              "      <td>https://hornstein.github.io/#about</td>\n",
              "      <td>1</td>\n",
              "    </tr>\n",
              "    <tr>\n",
              "      <th>15</th>\n",
              "      <td>20191116</td>\n",
              "      <td>https://hornstein.github.io/#service</td>\n",
              "      <td>2</td>\n",
              "    </tr>\n",
              "    <tr>\n",
              "      <th>16</th>\n",
              "      <td>20191116</td>\n",
              "      <td>https://hornstein.github.io/#about</td>\n",
              "      <td>1</td>\n",
              "    </tr>\n",
              "    <tr>\n",
              "      <th>17</th>\n",
              "      <td>20191116</td>\n",
              "      <td>https://hornstein.github.io/#contact</td>\n",
              "      <td>2</td>\n",
              "    </tr>\n",
              "    <tr>\n",
              "      <th>18</th>\n",
              "      <td>20191117</td>\n",
              "      <td>https://hornstein.github.io/#about</td>\n",
              "      <td>1</td>\n",
              "    </tr>\n",
              "    <tr>\n",
              "      <th>19</th>\n",
              "      <td>20191117</td>\n",
              "      <td>https://hornstein.github.io/#service</td>\n",
              "      <td>1</td>\n",
              "    </tr>\n",
              "    <tr>\n",
              "      <th>20</th>\n",
              "      <td>20191118</td>\n",
              "      <td>https://hornstein.github.io/#about</td>\n",
              "      <td>1</td>\n",
              "    </tr>\n",
              "    <tr>\n",
              "      <th>21</th>\n",
              "      <td>20191118</td>\n",
              "      <td>https://hornstein.github.io/#contact</td>\n",
              "      <td>1</td>\n",
              "    </tr>\n",
              "    <tr>\n",
              "      <th>22</th>\n",
              "      <td>20191119</td>\n",
              "      <td>https://hornstein.github.io/#about</td>\n",
              "      <td>2</td>\n",
              "    </tr>\n",
              "    <tr>\n",
              "      <th>23</th>\n",
              "      <td>20191119</td>\n",
              "      <td>https://hornstein.github.io/#contact</td>\n",
              "      <td>1</td>\n",
              "    </tr>\n",
              "    <tr>\n",
              "      <th>24</th>\n",
              "      <td>20191119</td>\n",
              "      <td>https://hornstein.github.io/#service</td>\n",
              "      <td>1</td>\n",
              "    </tr>\n",
              "    <tr>\n",
              "      <th>25</th>\n",
              "      <td>20191120</td>\n",
              "      <td>https://hornstein.github.io/#about</td>\n",
              "      <td>3</td>\n",
              "    </tr>\n",
              "    <tr>\n",
              "      <th>26</th>\n",
              "      <td>20191120</td>\n",
              "      <td>https://hornstein.github.io/#service</td>\n",
              "      <td>1</td>\n",
              "    </tr>\n",
              "    <tr>\n",
              "      <th>27</th>\n",
              "      <td>20191120</td>\n",
              "      <td>https://hornstein.github.io/#intro</td>\n",
              "      <td>2</td>\n",
              "    </tr>\n",
              "    <tr>\n",
              "      <th>28</th>\n",
              "      <td>20191120</td>\n",
              "      <td>https://hornstein.github.io/#contact</td>\n",
              "      <td>1</td>\n",
              "    </tr>\n",
              "  </tbody>\n",
              "</table>\n",
              "</div>"
            ],
            "text/plain": [
              "   event_date                                             url  clicks\n",
              "0    20191113              https://hornstein.github.io/#about      11\n",
              "1    20191113            https://hornstein.github.io/#service       9\n",
              "2    20191113              https://hornstein.github.io/#intro       5\n",
              "3    20191113            https://hornstein.github.io/#contact       7\n",
              "4    20191113          https://hornstein.github.io/index.html       1\n",
              "5    20191113    https://hornstein.github.io/index.html#about       1\n",
              "6    20191113  https://hornstein.github.io/index.html#service       1\n",
              "7    20191114              https://hornstein.github.io/#intro       5\n",
              "8    20191114              https://hornstein.github.io/#about       5\n",
              "9    20191114            https://hornstein.github.io/#service       5\n",
              "10   20191114            https://hornstein.github.io/#contact       2\n",
              "11   20191115            https://hornstein.github.io/#service       1\n",
              "12   20191115            https://hornstein.github.io/#contact       1\n",
              "13   20191115              https://hornstein.github.io/#intro       1\n",
              "14   20191115              https://hornstein.github.io/#about       1\n",
              "15   20191116            https://hornstein.github.io/#service       2\n",
              "16   20191116              https://hornstein.github.io/#about       1\n",
              "17   20191116            https://hornstein.github.io/#contact       2\n",
              "18   20191117              https://hornstein.github.io/#about       1\n",
              "19   20191117            https://hornstein.github.io/#service       1\n",
              "20   20191118              https://hornstein.github.io/#about       1\n",
              "21   20191118            https://hornstein.github.io/#contact       1\n",
              "22   20191119              https://hornstein.github.io/#about       2\n",
              "23   20191119            https://hornstein.github.io/#contact       1\n",
              "24   20191119            https://hornstein.github.io/#service       1\n",
              "25   20191120              https://hornstein.github.io/#about       3\n",
              "26   20191120            https://hornstein.github.io/#service       1\n",
              "27   20191120              https://hornstein.github.io/#intro       2\n",
              "28   20191120            https://hornstein.github.io/#contact       1"
            ]
          },
          "metadata": {
            "tags": []
          },
          "execution_count": 48
        }
      ]
    },
    {
      "cell_type": "markdown",
      "metadata": {
        "id": "bTK5rNd8fCTT",
        "colab_type": "text"
      },
      "source": [
        "Slutlligen kan vi visualisera detta med en barplot:"
      ]
    },
    {
      "cell_type": "code",
      "metadata": {
        "id": "NhK1MhLWb9Le",
        "colab_type": "code",
        "colab": {
          "base_uri": "https://localhost:8080/",
          "height": 313
        },
        "outputId": "961dd915-0a7f-4e5c-8ca7-16758af052ae"
      },
      "source": [
        "chart=sns.barplot(x = 'event_date', y = 'clicks', hue = 'url', data = df2)\n",
        "chart.set_xticklabels(chart.get_xticklabels(), rotation=45);"
      ],
      "execution_count": 49,
      "outputs": [
        {
          "output_type": "display_data",
          "data": {
            "image/png": "[encoded data removed]",
            "text/plain": [
              "<Figure size 432x288 with 1 Axes>"
            ]
          },
          "metadata": {
            "tags": []
          }
        }
      ]
    }
  ]
}