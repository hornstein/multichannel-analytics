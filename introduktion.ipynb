{
  "nbformat": 4,
  "nbformat_minor": 0,
  "metadata": {
    "colab": {
      "name": "introduktion.ipynb",
      "provenance": [],
      "toc_visible": true
    },
    "kernelspec": {
      "name": "python3",
      "display_name": "Python 3"
    }
  },
  "cells": [
    {
      "cell_type": "markdown",
      "metadata": {
        "id": "YddWZY5Xw7Ci",
        "colab_type": "text"
      },
      "source": [
        "# Introduktion till Jupyter notebook\n",
        "\n",
        "Exempel på hur man kan lösa uppgift 1 med hjälp av Jupyter notebook.\n",
        "\n",
        "\n",
        "\n"
      ]
    },
    {
      "cell_type": "markdown",
      "metadata": {
        "id": "ou87CINXYihJ",
        "colab_type": "text"
      },
      "source": [
        "## Läsa in data\n",
        "\n",
        "Det första vi behöver göra är att läsa in vår data. Det går att använda i princip vilken källa som helst för att läsa in data i Jupyter notebooks. Det vanligaste är att man läser in csv-filer, men det går också att läsa in data från ett API (t.ex. Google Analytics reporting API), en databas (t.ex. databasen för vårt e-handelssystem), eller från BigQuery. Eftersom vi gjort oss besväret att lägga upp ett Data warehouse i BigQuery så drar vi nytta av det och hämtar vår data därifrån.\n",
        "\n",
        "Det första vi behöver göra är att ansluta oss till BigQuery. Vi gör det med följande kod:"
      ]
    },
    {
      "cell_type": "code",
      "metadata": {
        "id": "f1N2ezPBoZ5Y",
        "colab_type": "code",
        "outputId": "143328c6-0ac8-4805-ebc1-a4d0d18649c0",
        "colab": {
          "base_uri": "https://localhost:8080/",
          "height": 34
        }
      },
      "source": [
        "from google.colab import auth\n",
        "auth.authenticate_user()\n",
        "print('Authenticated')\n"
      ],
      "execution_count": 1,
      "outputs": [
        {
          "output_type": "stream",
          "text": [
            "Authenticated\n"
          ],
          "name": "stdout"
        }
      ]
    },
    {
      "cell_type": "markdown",
      "metadata": {
        "id": "79pnQIgDxzxz",
        "colab_type": "text"
      },
      "source": [
        "När vi har kört koden ovan kan vi enkelt läsa in vår Google Analytics data från BigQuery med en SQL-sats och spara resultatet i en Dataframe med namnet *ga_report*:"
      ]
    },
    {
      "cell_type": "code",
      "metadata": {
        "id": "V5R7LhgnyBZ_",
        "colab_type": "code",
        "colab": {}
      },
      "source": [
        "%%bigquery --project surfsapp-8011b ga_report\n",
        "SELECT distinct\n",
        "  dimension1,\n",
        "  start_date,\n",
        "  campaign,\n",
        "  sourcemedium,\n",
        "  sessions,\n",
        "  transactions,\n",
        "  pageviews,\n",
        "  transactionrevenue\n",
        "FROM `surfsapp-8011b.google_analytics.report` \n",
        "where start_date between '2019-11-06' and '2019-11-13'"
      ],
      "execution_count": 0,
      "outputs": []
    },
    {
      "cell_type": "markdown",
      "metadata": {
        "colab_type": "text",
        "id": "e01XKym4gTXD"
      },
      "source": [
        "Dataframes är en del av Pythons dataanalys-bilbliotek pandas (https://pandas.pydata.org/). En Dataframe är helt enkelt en tabell med data, och vi kan vi kan få en snabb överblick av innehållet genom att kolla på de fem första raderna med följande kommando:"
      ]
    },
    {
      "cell_type": "code",
      "metadata": {
        "id": "OenaNf_hya0i",
        "colab_type": "code",
        "outputId": "528318bb-3023-445a-9b30-cbeee49a00fb",
        "colab": {
          "base_uri": "https://localhost:8080/",
          "height": 206
        }
      },
      "source": [
        "ga_report.head()"
      ],
      "execution_count": 3,
      "outputs": [
        {
          "output_type": "execute_result",
          "data": {
            "text/html": [
              "<div>\n",
              "<style scoped>\n",
              "    .dataframe tbody tr th:only-of-type {\n",
              "        vertical-align: middle;\n",
              "    }\n",
              "\n",
              "    .dataframe tbody tr th {\n",
              "        vertical-align: top;\n",
              "    }\n",
              "\n",
              "    .dataframe thead th {\n",
              "        text-align: right;\n",
              "    }\n",
              "</style>\n",
              "<table border=\"1\" class=\"dataframe\">\n",
              "  <thead>\n",
              "    <tr style=\"text-align: right;\">\n",
              "      <th></th>\n",
              "      <th>dimension1</th>\n",
              "      <th>start_date</th>\n",
              "      <th>campaign</th>\n",
              "      <th>sourcemedium</th>\n",
              "      <th>sessions</th>\n",
              "      <th>transactions</th>\n",
              "      <th>pageviews</th>\n",
              "      <th>transactionrevenue</th>\n",
              "    </tr>\n",
              "  </thead>\n",
              "  <tbody>\n",
              "    <tr>\n",
              "      <th>0</th>\n",
              "      <td>135468</td>\n",
              "      <td>2019-11-07 00:00:00+00:00</td>\n",
              "      <td>superdupersale</td>\n",
              "      <td>rix / radio</td>\n",
              "      <td>1</td>\n",
              "      <td>0</td>\n",
              "      <td>11</td>\n",
              "      <td>0</td>\n",
              "    </tr>\n",
              "    <tr>\n",
              "      <th>1</th>\n",
              "      <td>174528</td>\n",
              "      <td>2019-11-11 00:00:00+00:00</td>\n",
              "      <td>superdupersale</td>\n",
              "      <td>rix / radio</td>\n",
              "      <td>1</td>\n",
              "      <td>1</td>\n",
              "      <td>19</td>\n",
              "      <td>30129</td>\n",
              "    </tr>\n",
              "    <tr>\n",
              "      <th>2</th>\n",
              "      <td>169987</td>\n",
              "      <td>2019-11-12 00:00:00+00:00</td>\n",
              "      <td>superdupersale</td>\n",
              "      <td>rix / radio</td>\n",
              "      <td>1</td>\n",
              "      <td>1</td>\n",
              "      <td>17</td>\n",
              "      <td>25329</td>\n",
              "    </tr>\n",
              "    <tr>\n",
              "      <th>3</th>\n",
              "      <td>168088</td>\n",
              "      <td>2019-11-09 00:00:00+00:00</td>\n",
              "      <td>superdupersale</td>\n",
              "      <td>rix / radio</td>\n",
              "      <td>2</td>\n",
              "      <td>1</td>\n",
              "      <td>24</td>\n",
              "      <td>30129</td>\n",
              "    </tr>\n",
              "    <tr>\n",
              "      <th>4</th>\n",
              "      <td>167096</td>\n",
              "      <td>2019-11-07 00:00:00+00:00</td>\n",
              "      <td>superdupersale</td>\n",
              "      <td>rix / radio</td>\n",
              "      <td>2</td>\n",
              "      <td>1</td>\n",
              "      <td>25</td>\n",
              "      <td>45029</td>\n",
              "    </tr>\n",
              "  </tbody>\n",
              "</table>\n",
              "</div>"
            ],
            "text/plain": [
              "  dimension1                start_date  ... pageviews transactionrevenue\n",
              "0     135468 2019-11-07 00:00:00+00:00  ...        11                  0\n",
              "1     174528 2019-11-11 00:00:00+00:00  ...        19              30129\n",
              "2     169987 2019-11-12 00:00:00+00:00  ...        17              25329\n",
              "3     168088 2019-11-09 00:00:00+00:00  ...        24              30129\n",
              "4     167096 2019-11-07 00:00:00+00:00  ...        25              45029\n",
              "\n",
              "[5 rows x 8 columns]"
            ]
          },
          "metadata": {
            "tags": []
          },
          "execution_count": 3
        }
      ]
    },
    {
      "cell_type": "markdown",
      "metadata": {
        "id": "MIZ2AxTagVlm",
        "colab_type": "text"
      },
      "source": [
        "Vi kan få lite ytterligare information om vilka datatyper de olika kolumnerna har med följande kommando:"
      ]
    },
    {
      "cell_type": "code",
      "metadata": {
        "id": "kyncDw_Ljxf1",
        "colab_type": "code",
        "outputId": "3b67124a-4ad9-46c5-c06f-a5561e6752e6",
        "colab": {
          "base_uri": "https://localhost:8080/",
          "height": 243
        }
      },
      "source": [
        "ga_report.info()"
      ],
      "execution_count": 4,
      "outputs": [
        {
          "output_type": "stream",
          "text": [
            "<class 'pandas.core.frame.DataFrame'>\n",
            "RangeIndex: 3492 entries, 0 to 3491\n",
            "Data columns (total 8 columns):\n",
            "dimension1            3492 non-null object\n",
            "start_date            3492 non-null datetime64[ns, UTC]\n",
            "campaign              3492 non-null object\n",
            "sourcemedium          3492 non-null object\n",
            "sessions              3492 non-null int64\n",
            "transactions          3492 non-null int64\n",
            "pageviews             3492 non-null int64\n",
            "transactionrevenue    3492 non-null object\n",
            "dtypes: datetime64[ns, UTC](1), int64(3), object(4)\n",
            "memory usage: 218.4+ KB\n"
          ],
          "name": "stdout"
        }
      ]
    },
    {
      "cell_type": "markdown",
      "metadata": {
        "id": "zxyPvPk7lkLU",
        "colab_type": "text"
      },
      "source": [
        "En intressant observation ovan är att transactionrevenue har datatypen *object* (d.vs. text) och inte *int64* (d.v.s. numeriskt värde). Vi kan rätta till detta genom att omvandla värdena i kolumnen till *int64*:"
      ]
    },
    {
      "cell_type": "code",
      "metadata": {
        "id": "Li-lJZoFpmr-",
        "colab_type": "code",
        "outputId": "1a45ba55-78a6-4f66-a8d9-b1cde928dfbf",
        "colab": {
          "base_uri": "https://localhost:8080/",
          "height": 243
        }
      },
      "source": [
        "ga_report['transactionrevenue']=ga_report['transactionrevenue'].astype(str).astype('int64')\n",
        "\n",
        "ga_report.info()"
      ],
      "execution_count": 5,
      "outputs": [
        {
          "output_type": "stream",
          "text": [
            "<class 'pandas.core.frame.DataFrame'>\n",
            "RangeIndex: 3492 entries, 0 to 3491\n",
            "Data columns (total 8 columns):\n",
            "dimension1            3492 non-null object\n",
            "start_date            3492 non-null datetime64[ns, UTC]\n",
            "campaign              3492 non-null object\n",
            "sourcemedium          3492 non-null object\n",
            "sessions              3492 non-null int64\n",
            "transactions          3492 non-null int64\n",
            "pageviews             3492 non-null int64\n",
            "transactionrevenue    3492 non-null int64\n",
            "dtypes: datetime64[ns, UTC](1), int64(4), object(3)\n",
            "memory usage: 218.4+ KB\n"
          ],
          "name": "stdout"
        }
      ]
    },
    {
      "cell_type": "markdown",
      "metadata": {
        "id": "_Qb5PqB3rIai",
        "colab_type": "text"
      },
      "source": [
        "Nu när vi har rätt datatyper kan använda funktionen *describe* för att få en snabb överblick av vilka värden våra metrics har:"
      ]
    },
    {
      "cell_type": "code",
      "metadata": {
        "id": "0QMTivwzkUll",
        "colab_type": "code",
        "outputId": "fdcfd365-325e-4dd7-b11e-887ce3b3143e",
        "colab": {
          "base_uri": "https://localhost:8080/",
          "height": 300
        }
      },
      "source": [
        "ga_report.describe()"
      ],
      "execution_count": 6,
      "outputs": [
        {
          "output_type": "execute_result",
          "data": {
            "text/html": [
              "<div>\n",
              "<style scoped>\n",
              "    .dataframe tbody tr th:only-of-type {\n",
              "        vertical-align: middle;\n",
              "    }\n",
              "\n",
              "    .dataframe tbody tr th {\n",
              "        vertical-align: top;\n",
              "    }\n",
              "\n",
              "    .dataframe thead th {\n",
              "        text-align: right;\n",
              "    }\n",
              "</style>\n",
              "<table border=\"1\" class=\"dataframe\">\n",
              "  <thead>\n",
              "    <tr style=\"text-align: right;\">\n",
              "      <th></th>\n",
              "      <th>sessions</th>\n",
              "      <th>transactions</th>\n",
              "      <th>pageviews</th>\n",
              "      <th>transactionrevenue</th>\n",
              "    </tr>\n",
              "  </thead>\n",
              "  <tbody>\n",
              "    <tr>\n",
              "      <th>count</th>\n",
              "      <td>3492.000000</td>\n",
              "      <td>3492.000000</td>\n",
              "      <td>3492.000000</td>\n",
              "      <td>3492.000000</td>\n",
              "    </tr>\n",
              "    <tr>\n",
              "      <th>mean</th>\n",
              "      <td>1.188717</td>\n",
              "      <td>0.327606</td>\n",
              "      <td>13.351088</td>\n",
              "      <td>6455.004582</td>\n",
              "    </tr>\n",
              "    <tr>\n",
              "      <th>std</th>\n",
              "      <td>0.501683</td>\n",
              "      <td>0.557550</td>\n",
              "      <td>8.070507</td>\n",
              "      <td>13481.824583</td>\n",
              "    </tr>\n",
              "    <tr>\n",
              "      <th>min</th>\n",
              "      <td>1.000000</td>\n",
              "      <td>0.000000</td>\n",
              "      <td>1.000000</td>\n",
              "      <td>0.000000</td>\n",
              "    </tr>\n",
              "    <tr>\n",
              "      <th>25%</th>\n",
              "      <td>1.000000</td>\n",
              "      <td>0.000000</td>\n",
              "      <td>8.000000</td>\n",
              "      <td>0.000000</td>\n",
              "    </tr>\n",
              "    <tr>\n",
              "      <th>50%</th>\n",
              "      <td>1.000000</td>\n",
              "      <td>0.000000</td>\n",
              "      <td>11.000000</td>\n",
              "      <td>0.000000</td>\n",
              "    </tr>\n",
              "    <tr>\n",
              "      <th>75%</th>\n",
              "      <td>1.000000</td>\n",
              "      <td>1.000000</td>\n",
              "      <td>16.000000</td>\n",
              "      <td>6229.000000</td>\n",
              "    </tr>\n",
              "    <tr>\n",
              "      <th>max</th>\n",
              "      <td>7.000000</td>\n",
              "      <td>4.000000</td>\n",
              "      <td>83.000000</td>\n",
              "      <td>126087.000000</td>\n",
              "    </tr>\n",
              "  </tbody>\n",
              "</table>\n",
              "</div>"
            ],
            "text/plain": [
              "          sessions  transactions    pageviews  transactionrevenue\n",
              "count  3492.000000   3492.000000  3492.000000         3492.000000\n",
              "mean      1.188717      0.327606    13.351088         6455.004582\n",
              "std       0.501683      0.557550     8.070507        13481.824583\n",
              "min       1.000000      0.000000     1.000000            0.000000\n",
              "25%       1.000000      0.000000     8.000000            0.000000\n",
              "50%       1.000000      0.000000    11.000000            0.000000\n",
              "75%       1.000000      1.000000    16.000000         6229.000000\n",
              "max       7.000000      4.000000    83.000000       126087.000000"
            ]
          },
          "metadata": {
            "tags": []
          },
          "execution_count": 6
        }
      ]
    },
    {
      "cell_type": "markdown",
      "metadata": {
        "id": "w918uFtKwSws",
        "colab_type": "text"
      },
      "source": [
        "Vi kan också göra en parvis plottning av mätvärdena för att se om det finns några samband mellan dessa:"
      ]
    },
    {
      "cell_type": "code",
      "metadata": {
        "id": "I6Dml5j7mZ-R",
        "colab_type": "code",
        "outputId": "58c5e860-68f7-4307-f041-f2e5c0415a68",
        "colab": {
          "base_uri": "https://localhost:8080/",
          "height": 725
        }
      },
      "source": [
        "import seaborn as sns\n",
        "\n",
        "sns.pairplot(ga_report[['sessions','transactions','pageviews','transactionrevenue']]);"
      ],
      "execution_count": 7,
      "outputs": [
        {
          "output_type": "display_data",
          "data": {
            "image/png": "[encoded data removed]",
            "text/plain": [
              "<Figure size 720x720 with 20 Axes>"
            ]
          },
          "metadata": {
            "tags": []
          }
        }
      ]
    },
    {
      "cell_type": "markdown",
      "metadata": {
        "id": "1F1mYzaYw6OB",
        "colab_type": "text"
      },
      "source": [
        "Vi kan t.ex. se att det finns ett tydligt samband mellan antalet pageviews och antalet transaktioner samt transaktionsvärde, medan det inte ser ut att finnas något tydligt samband mellan antalet sessions och antalet transaktioner.\n",
        "\n",
        "Låt oss dock vänta med själva analyserandet och istället ladda in vår kunddata. Även denna ligger i BigQuery och vi använder en SQL-sats för att läsa in denna i en dataframe med namnet customer_data:"
      ]
    },
    {
      "cell_type": "code",
      "metadata": {
        "id": "8Iz5OZVpyr6q",
        "colab_type": "code",
        "colab": {}
      },
      "source": [
        "%%bigquery --project surfsapp-8011b customer_data\n",
        "select distinct a.EntityId CustomerID, a.value Gender, b.value DateOfBirth, d.ZipPostalCode \n",
        "from `surfsapp-8011b.nop_database.GenericAttribute` a\n",
        "inner join `surfsapp-8011b.nop_database.GenericAttribute` b on a.EntityId=b.EntityId\n",
        "left outer join `surfsapp-8011b.nop_database.CustomerAddresses` c on c.Customer_Id=b.EntityId\n",
        "left outer join `surfsapp-8011b.nop_database.Address` d on d.Id=c.Address_Id\n",
        "where a.key = 'Gender' and b.Key = 'DateOfBirth'"
      ],
      "execution_count": 0,
      "outputs": []
    },
    {
      "cell_type": "markdown",
      "metadata": {
        "id": "9-aNELUTxv-A",
        "colab_type": "text"
      },
      "source": [
        "Nu kan vi igen använda oss av funktionen head för att se de första raderna i vår dataframe: "
      ]
    },
    {
      "cell_type": "code",
      "metadata": {
        "id": "XLsCcPVCzKgj",
        "colab_type": "code",
        "outputId": "e2804461-43b5-444c-a6af-521fcc970634",
        "colab": {
          "base_uri": "https://localhost:8080/",
          "height": 206
        }
      },
      "source": [
        "customer_data.head()"
      ],
      "execution_count": 9,
      "outputs": [
        {
          "output_type": "execute_result",
          "data": {
            "text/html": [
              "<div>\n",
              "<style scoped>\n",
              "    .dataframe tbody tr th:only-of-type {\n",
              "        vertical-align: middle;\n",
              "    }\n",
              "\n",
              "    .dataframe tbody tr th {\n",
              "        vertical-align: top;\n",
              "    }\n",
              "\n",
              "    .dataframe thead th {\n",
              "        text-align: right;\n",
              "    }\n",
              "</style>\n",
              "<table border=\"1\" class=\"dataframe\">\n",
              "  <thead>\n",
              "    <tr style=\"text-align: right;\">\n",
              "      <th></th>\n",
              "      <th>CustomerID</th>\n",
              "      <th>Gender</th>\n",
              "      <th>DateOfBirth</th>\n",
              "      <th>ZipPostalCode</th>\n",
              "    </tr>\n",
              "  </thead>\n",
              "  <tbody>\n",
              "    <tr>\n",
              "      <th>0</th>\n",
              "      <td>24256</td>\n",
              "      <td>M</td>\n",
              "      <td>1907-01-01</td>\n",
              "      <td>None</td>\n",
              "    </tr>\n",
              "    <tr>\n",
              "      <th>1</th>\n",
              "      <td>25252</td>\n",
              "      <td>M</td>\n",
              "      <td>1919-06-15</td>\n",
              "      <td>None</td>\n",
              "    </tr>\n",
              "    <tr>\n",
              "      <th>2</th>\n",
              "      <td>43259</td>\n",
              "      <td>M</td>\n",
              "      <td>1922-04-15</td>\n",
              "      <td>None</td>\n",
              "    </tr>\n",
              "    <tr>\n",
              "      <th>3</th>\n",
              "      <td>43734</td>\n",
              "      <td>F</td>\n",
              "      <td>1925-08-11</td>\n",
              "      <td>None</td>\n",
              "    </tr>\n",
              "    <tr>\n",
              "      <th>4</th>\n",
              "      <td>30518</td>\n",
              "      <td>M</td>\n",
              "      <td>1973-04-05</td>\n",
              "      <td>None</td>\n",
              "    </tr>\n",
              "  </tbody>\n",
              "</table>\n",
              "</div>"
            ],
            "text/plain": [
              "   CustomerID Gender DateOfBirth ZipPostalCode\n",
              "0       24256      M  1907-01-01          None\n",
              "1       25252      M  1919-06-15          None\n",
              "2       43259      M  1922-04-15          None\n",
              "3       43734      F  1925-08-11          None\n",
              "4       30518      M  1973-04-05          None"
            ]
          },
          "metadata": {
            "tags": []
          },
          "execution_count": 9
        }
      ]
    },
    {
      "cell_type": "markdown",
      "metadata": {
        "id": "h1wjPshxfKDt",
        "colab_type": "text"
      },
      "source": [
        "Och vi använder info för att kolla vilka datatyper de olika kolumnerna har:"
      ]
    },
    {
      "cell_type": "code",
      "metadata": {
        "id": "BvU0T2JmycWp",
        "colab_type": "code",
        "outputId": "92a7b5c2-f867-4fe3-f0a1-dc3e4abbe75f",
        "colab": {
          "base_uri": "https://localhost:8080/",
          "height": 173
        }
      },
      "source": [
        "customer_data.info()"
      ],
      "execution_count": 10,
      "outputs": [
        {
          "output_type": "stream",
          "text": [
            "<class 'pandas.core.frame.DataFrame'>\n",
            "RangeIndex: 5139 entries, 0 to 5138\n",
            "Data columns (total 4 columns):\n",
            "CustomerID       5139 non-null int64\n",
            "Gender           5139 non-null object\n",
            "DateOfBirth      5139 non-null object\n",
            "ZipPostalCode    4387 non-null object\n",
            "dtypes: int64(1), object(3)\n",
            "memory usage: 160.7+ KB\n"
          ],
          "name": "stdout"
        }
      ]
    },
    {
      "cell_type": "markdown",
      "metadata": {
        "id": "nYx2OExlyzAj",
        "colab_type": "text"
      },
      "source": [
        "Här kan vi se att CustomerID har typen *int64*, vilket visserligen är ok, men kan ställa till problem när vi vill matcha den mot dimension1 i vår ga_report, så vi väljer att göra om denna till typen *object*. Vi ser också till att DateOfBirth är av typen *datetime64*:\n",
        "\n"
      ]
    },
    {
      "cell_type": "code",
      "metadata": {
        "id": "lB0nDw6xzTvW",
        "colab_type": "code",
        "outputId": "50206995-a290-4312-8d9a-2b9e6ff74936",
        "colab": {
          "base_uri": "https://localhost:8080/",
          "height": 173
        }
      },
      "source": [
        "import pandas as pd\n",
        "customer_data['DateOfBirth']=pd.to_datetime(customer_data['DateOfBirth'])\n",
        "customer_data['CustomerID']=customer_data['CustomerID'].astype('str').astype('object')\n",
        "customer_data.info()"
      ],
      "execution_count": 11,
      "outputs": [
        {
          "output_type": "stream",
          "text": [
            "<class 'pandas.core.frame.DataFrame'>\n",
            "RangeIndex: 5139 entries, 0 to 5138\n",
            "Data columns (total 4 columns):\n",
            "CustomerID       5139 non-null object\n",
            "Gender           5139 non-null object\n",
            "DateOfBirth      5139 non-null datetime64[ns]\n",
            "ZipPostalCode    4387 non-null object\n",
            "dtypes: datetime64[ns](1), object(3)\n",
            "memory usage: 160.7+ KB\n"
          ],
          "name": "stdout"
        }
      ]
    },
    {
      "cell_type": "markdown",
      "metadata": {
        "id": "a0lvARSb2p5t",
        "colab_type": "text"
      },
      "source": [
        "Vi har nu läst in våra tabeller och sett till att det är rätt datatyp, samt tagit en första titt på våra metrics. Det är nu dags att koppla ihop dessa i en gemensam dataframe för att kunna analysera mer ingående."
      ]
    },
    {
      "cell_type": "markdown",
      "metadata": {
        "id": "cXEppj943N3Y",
        "colab_type": "text"
      },
      "source": [
        "## Koppla ihop dataframes\n",
        "\n",
        "Vi vill nu koppla ihop våra två dataframes ga_report och customer_data. Vi vet ju sedan tidigare hur vi gör detta i för våra tabeller i SQL genom att använda kommandot:\n",
        "\n",
        "```SQL\n",
        "SELECT ga.*, crm.Gender, crm.DateOfBirth, crm.ZipPostalCode\n",
        "FROM `surfsapp-8011b.google_analytics.ga_report` ga \n",
        "  LEFT JOIN `surfsapp-8011b.nop_database.customer_data` crm \n",
        "  ON ga.dimension1=CAST(crm.CustomerID as string)\n",
        "```\n",
        "\n",
        "Det går att koppla ihop dataframes med Python pandas på samma sätt, men syntaxen är lite annorlunda. Vet man hur man gör något i SQL och vill veta hur man gör motsvarande med pandas så kan man kika på följande jämförelse:\n",
        "\n",
        "https://pandas.pydata.org/pandas-docs/stable/getting_started/comparison/comparison_with_sql.html\n",
        "\n",
        "Vi kan göra en left join med följande kod:\n"
      ]
    },
    {
      "cell_type": "code",
      "metadata": {
        "id": "7JqUAJ0l6I5X",
        "colab_type": "code",
        "outputId": "f187a491-2072-445d-a4a4-e805903f4d8e",
        "colab": {
          "base_uri": "https://localhost:8080/",
          "height": 206
        }
      },
      "source": [
        "combined_df = pd.merge(ga_report, customer_data, left_on='dimension1', right_on='CustomerID', how='left')\n",
        "combined_df.head()"
      ],
      "execution_count": 12,
      "outputs": [
        {
          "output_type": "execute_result",
          "data": {
            "text/html": [
              "<div>\n",
              "<style scoped>\n",
              "    .dataframe tbody tr th:only-of-type {\n",
              "        vertical-align: middle;\n",
              "    }\n",
              "\n",
              "    .dataframe tbody tr th {\n",
              "        vertical-align: top;\n",
              "    }\n",
              "\n",
              "    .dataframe thead th {\n",
              "        text-align: right;\n",
              "    }\n",
              "</style>\n",
              "<table border=\"1\" class=\"dataframe\">\n",
              "  <thead>\n",
              "    <tr style=\"text-align: right;\">\n",
              "      <th></th>\n",
              "      <th>dimension1</th>\n",
              "      <th>start_date</th>\n",
              "      <th>campaign</th>\n",
              "      <th>sourcemedium</th>\n",
              "      <th>sessions</th>\n",
              "      <th>transactions</th>\n",
              "      <th>pageviews</th>\n",
              "      <th>transactionrevenue</th>\n",
              "      <th>CustomerID</th>\n",
              "      <th>Gender</th>\n",
              "      <th>DateOfBirth</th>\n",
              "      <th>ZipPostalCode</th>\n",
              "    </tr>\n",
              "  </thead>\n",
              "  <tbody>\n",
              "    <tr>\n",
              "      <th>0</th>\n",
              "      <td>135468</td>\n",
              "      <td>2019-11-07 00:00:00+00:00</td>\n",
              "      <td>superdupersale</td>\n",
              "      <td>rix / radio</td>\n",
              "      <td>1</td>\n",
              "      <td>0</td>\n",
              "      <td>11</td>\n",
              "      <td>0</td>\n",
              "      <td>135468</td>\n",
              "      <td>M</td>\n",
              "      <td>1959-08-03</td>\n",
              "      <td>11000</td>\n",
              "    </tr>\n",
              "    <tr>\n",
              "      <th>1</th>\n",
              "      <td>174528</td>\n",
              "      <td>2019-11-11 00:00:00+00:00</td>\n",
              "      <td>superdupersale</td>\n",
              "      <td>rix / radio</td>\n",
              "      <td>1</td>\n",
              "      <td>1</td>\n",
              "      <td>19</td>\n",
              "      <td>30129</td>\n",
              "      <td>174528</td>\n",
              "      <td>M</td>\n",
              "      <td>1968-08-03</td>\n",
              "      <td>20800</td>\n",
              "    </tr>\n",
              "    <tr>\n",
              "      <th>2</th>\n",
              "      <td>169987</td>\n",
              "      <td>2019-11-12 00:00:00+00:00</td>\n",
              "      <td>superdupersale</td>\n",
              "      <td>rix / radio</td>\n",
              "      <td>1</td>\n",
              "      <td>1</td>\n",
              "      <td>17</td>\n",
              "      <td>25329</td>\n",
              "      <td>169987</td>\n",
              "      <td>M</td>\n",
              "      <td>1973-08-03</td>\n",
              "      <td>40010</td>\n",
              "    </tr>\n",
              "    <tr>\n",
              "      <th>3</th>\n",
              "      <td>168088</td>\n",
              "      <td>2019-11-09 00:00:00+00:00</td>\n",
              "      <td>superdupersale</td>\n",
              "      <td>rix / radio</td>\n",
              "      <td>2</td>\n",
              "      <td>1</td>\n",
              "      <td>24</td>\n",
              "      <td>30129</td>\n",
              "      <td>168088</td>\n",
              "      <td>F</td>\n",
              "      <td>1975-08-03</td>\n",
              "      <td>40010</td>\n",
              "    </tr>\n",
              "    <tr>\n",
              "      <th>4</th>\n",
              "      <td>167096</td>\n",
              "      <td>2019-11-07 00:00:00+00:00</td>\n",
              "      <td>superdupersale</td>\n",
              "      <td>rix / radio</td>\n",
              "      <td>2</td>\n",
              "      <td>1</td>\n",
              "      <td>25</td>\n",
              "      <td>45029</td>\n",
              "      <td>167096</td>\n",
              "      <td>M</td>\n",
              "      <td>1970-08-03</td>\n",
              "      <td>20800</td>\n",
              "    </tr>\n",
              "  </tbody>\n",
              "</table>\n",
              "</div>"
            ],
            "text/plain": [
              "  dimension1                start_date  ... DateOfBirth ZipPostalCode\n",
              "0     135468 2019-11-07 00:00:00+00:00  ...  1959-08-03         11000\n",
              "1     174528 2019-11-11 00:00:00+00:00  ...  1968-08-03         20800\n",
              "2     169987 2019-11-12 00:00:00+00:00  ...  1973-08-03         40010\n",
              "3     168088 2019-11-09 00:00:00+00:00  ...  1975-08-03         40010\n",
              "4     167096 2019-11-07 00:00:00+00:00  ...  1970-08-03         20800\n",
              "\n",
              "[5 rows x 12 columns]"
            ]
          },
          "metadata": {
            "tags": []
          },
          "execution_count": 12
        }
      ]
    },
    {
      "cell_type": "markdown",
      "metadata": {
        "id": "-kpxuLtbCfiF",
        "colab_type": "text"
      },
      "source": [
        "Nästa steg som vi gjorde i BigQuery var att filtrera bort rader som har campaign=(not set) eller har en kolumn med värdet NaN."
      ]
    },
    {
      "cell_type": "code",
      "metadata": {
        "id": "Y-8DpUdaDkTq",
        "colab_type": "code",
        "outputId": "fd096934-2514-45c1-ec59-b353a6a40c00",
        "colab": {
          "base_uri": "https://localhost:8080/",
          "height": 206
        }
      },
      "source": [
        "combined_df = combined_df[combined_df['campaign'] != '(not set)']\n",
        "combined_df = combined_df[combined_df['ZipPostalCode'].notna()]\n",
        "combined_df.head()"
      ],
      "execution_count": 13,
      "outputs": [
        {
          "output_type": "execute_result",
          "data": {
            "text/html": [
              "<div>\n",
              "<style scoped>\n",
              "    .dataframe tbody tr th:only-of-type {\n",
              "        vertical-align: middle;\n",
              "    }\n",
              "\n",
              "    .dataframe tbody tr th {\n",
              "        vertical-align: top;\n",
              "    }\n",
              "\n",
              "    .dataframe thead th {\n",
              "        text-align: right;\n",
              "    }\n",
              "</style>\n",
              "<table border=\"1\" class=\"dataframe\">\n",
              "  <thead>\n",
              "    <tr style=\"text-align: right;\">\n",
              "      <th></th>\n",
              "      <th>dimension1</th>\n",
              "      <th>start_date</th>\n",
              "      <th>campaign</th>\n",
              "      <th>sourcemedium</th>\n",
              "      <th>sessions</th>\n",
              "      <th>transactions</th>\n",
              "      <th>pageviews</th>\n",
              "      <th>transactionrevenue</th>\n",
              "      <th>CustomerID</th>\n",
              "      <th>Gender</th>\n",
              "      <th>DateOfBirth</th>\n",
              "      <th>ZipPostalCode</th>\n",
              "    </tr>\n",
              "  </thead>\n",
              "  <tbody>\n",
              "    <tr>\n",
              "      <th>0</th>\n",
              "      <td>135468</td>\n",
              "      <td>2019-11-07 00:00:00+00:00</td>\n",
              "      <td>superdupersale</td>\n",
              "      <td>rix / radio</td>\n",
              "      <td>1</td>\n",
              "      <td>0</td>\n",
              "      <td>11</td>\n",
              "      <td>0</td>\n",
              "      <td>135468</td>\n",
              "      <td>M</td>\n",
              "      <td>1959-08-03</td>\n",
              "      <td>11000</td>\n",
              "    </tr>\n",
              "    <tr>\n",
              "      <th>1</th>\n",
              "      <td>174528</td>\n",
              "      <td>2019-11-11 00:00:00+00:00</td>\n",
              "      <td>superdupersale</td>\n",
              "      <td>rix / radio</td>\n",
              "      <td>1</td>\n",
              "      <td>1</td>\n",
              "      <td>19</td>\n",
              "      <td>30129</td>\n",
              "      <td>174528</td>\n",
              "      <td>M</td>\n",
              "      <td>1968-08-03</td>\n",
              "      <td>20800</td>\n",
              "    </tr>\n",
              "    <tr>\n",
              "      <th>2</th>\n",
              "      <td>169987</td>\n",
              "      <td>2019-11-12 00:00:00+00:00</td>\n",
              "      <td>superdupersale</td>\n",
              "      <td>rix / radio</td>\n",
              "      <td>1</td>\n",
              "      <td>1</td>\n",
              "      <td>17</td>\n",
              "      <td>25329</td>\n",
              "      <td>169987</td>\n",
              "      <td>M</td>\n",
              "      <td>1973-08-03</td>\n",
              "      <td>40010</td>\n",
              "    </tr>\n",
              "    <tr>\n",
              "      <th>3</th>\n",
              "      <td>168088</td>\n",
              "      <td>2019-11-09 00:00:00+00:00</td>\n",
              "      <td>superdupersale</td>\n",
              "      <td>rix / radio</td>\n",
              "      <td>2</td>\n",
              "      <td>1</td>\n",
              "      <td>24</td>\n",
              "      <td>30129</td>\n",
              "      <td>168088</td>\n",
              "      <td>F</td>\n",
              "      <td>1975-08-03</td>\n",
              "      <td>40010</td>\n",
              "    </tr>\n",
              "    <tr>\n",
              "      <th>4</th>\n",
              "      <td>167096</td>\n",
              "      <td>2019-11-07 00:00:00+00:00</td>\n",
              "      <td>superdupersale</td>\n",
              "      <td>rix / radio</td>\n",
              "      <td>2</td>\n",
              "      <td>1</td>\n",
              "      <td>25</td>\n",
              "      <td>45029</td>\n",
              "      <td>167096</td>\n",
              "      <td>M</td>\n",
              "      <td>1970-08-03</td>\n",
              "      <td>20800</td>\n",
              "    </tr>\n",
              "  </tbody>\n",
              "</table>\n",
              "</div>"
            ],
            "text/plain": [
              "  dimension1                start_date  ... DateOfBirth ZipPostalCode\n",
              "0     135468 2019-11-07 00:00:00+00:00  ...  1959-08-03         11000\n",
              "1     174528 2019-11-11 00:00:00+00:00  ...  1968-08-03         20800\n",
              "2     169987 2019-11-12 00:00:00+00:00  ...  1973-08-03         40010\n",
              "3     168088 2019-11-09 00:00:00+00:00  ...  1975-08-03         40010\n",
              "4     167096 2019-11-07 00:00:00+00:00  ...  1970-08-03         20800\n",
              "\n",
              "[5 rows x 12 columns]"
            ]
          },
          "metadata": {
            "tags": []
          },
          "execution_count": 13
        }
      ]
    },
    {
      "cell_type": "markdown",
      "metadata": {
        "id": "NtkysgwIHr-j",
        "colab_type": "text"
      },
      "source": [
        "Efter detta skapade vi upp ett antal beräknade variabler"
      ]
    },
    {
      "cell_type": "code",
      "metadata": {
        "id": "JzfT7MYbHcOt",
        "colab_type": "code",
        "outputId": "40ffcca9-d170-4880-ae4f-2a51fb129fa8",
        "colab": {
          "base_uri": "https://localhost:8080/",
          "height": 206
        }
      },
      "source": [
        "import numpy as np\n",
        "combined_df['Male']=np.where(combined_df['Gender']=='M', 1, 0)\n",
        "combined_df['Female']=np.where(combined_df['Gender']=='F', 1, 0)\n",
        "combined_df['Age']=2019-pd.DatetimeIndex(combined_df['DateOfBirth']).year \n",
        "combined_df.head()"
      ],
      "execution_count": 14,
      "outputs": [
        {
          "output_type": "execute_result",
          "data": {
            "text/html": [
              "<div>\n",
              "<style scoped>\n",
              "    .dataframe tbody tr th:only-of-type {\n",
              "        vertical-align: middle;\n",
              "    }\n",
              "\n",
              "    .dataframe tbody tr th {\n",
              "        vertical-align: top;\n",
              "    }\n",
              "\n",
              "    .dataframe thead th {\n",
              "        text-align: right;\n",
              "    }\n",
              "</style>\n",
              "<table border=\"1\" class=\"dataframe\">\n",
              "  <thead>\n",
              "    <tr style=\"text-align: right;\">\n",
              "      <th></th>\n",
              "      <th>dimension1</th>\n",
              "      <th>start_date</th>\n",
              "      <th>campaign</th>\n",
              "      <th>sourcemedium</th>\n",
              "      <th>sessions</th>\n",
              "      <th>transactions</th>\n",
              "      <th>pageviews</th>\n",
              "      <th>transactionrevenue</th>\n",
              "      <th>CustomerID</th>\n",
              "      <th>Gender</th>\n",
              "      <th>DateOfBirth</th>\n",
              "      <th>ZipPostalCode</th>\n",
              "      <th>Male</th>\n",
              "      <th>Female</th>\n",
              "      <th>Age</th>\n",
              "    </tr>\n",
              "  </thead>\n",
              "  <tbody>\n",
              "    <tr>\n",
              "      <th>0</th>\n",
              "      <td>135468</td>\n",
              "      <td>2019-11-07 00:00:00+00:00</td>\n",
              "      <td>superdupersale</td>\n",
              "      <td>rix / radio</td>\n",
              "      <td>1</td>\n",
              "      <td>0</td>\n",
              "      <td>11</td>\n",
              "      <td>0</td>\n",
              "      <td>135468</td>\n",
              "      <td>M</td>\n",
              "      <td>1959-08-03</td>\n",
              "      <td>11000</td>\n",
              "      <td>1</td>\n",
              "      <td>0</td>\n",
              "      <td>60</td>\n",
              "    </tr>\n",
              "    <tr>\n",
              "      <th>1</th>\n",
              "      <td>174528</td>\n",
              "      <td>2019-11-11 00:00:00+00:00</td>\n",
              "      <td>superdupersale</td>\n",
              "      <td>rix / radio</td>\n",
              "      <td>1</td>\n",
              "      <td>1</td>\n",
              "      <td>19</td>\n",
              "      <td>30129</td>\n",
              "      <td>174528</td>\n",
              "      <td>M</td>\n",
              "      <td>1968-08-03</td>\n",
              "      <td>20800</td>\n",
              "      <td>1</td>\n",
              "      <td>0</td>\n",
              "      <td>51</td>\n",
              "    </tr>\n",
              "    <tr>\n",
              "      <th>2</th>\n",
              "      <td>169987</td>\n",
              "      <td>2019-11-12 00:00:00+00:00</td>\n",
              "      <td>superdupersale</td>\n",
              "      <td>rix / radio</td>\n",
              "      <td>1</td>\n",
              "      <td>1</td>\n",
              "      <td>17</td>\n",
              "      <td>25329</td>\n",
              "      <td>169987</td>\n",
              "      <td>M</td>\n",
              "      <td>1973-08-03</td>\n",
              "      <td>40010</td>\n",
              "      <td>1</td>\n",
              "      <td>0</td>\n",
              "      <td>46</td>\n",
              "    </tr>\n",
              "    <tr>\n",
              "      <th>3</th>\n",
              "      <td>168088</td>\n",
              "      <td>2019-11-09 00:00:00+00:00</td>\n",
              "      <td>superdupersale</td>\n",
              "      <td>rix / radio</td>\n",
              "      <td>2</td>\n",
              "      <td>1</td>\n",
              "      <td>24</td>\n",
              "      <td>30129</td>\n",
              "      <td>168088</td>\n",
              "      <td>F</td>\n",
              "      <td>1975-08-03</td>\n",
              "      <td>40010</td>\n",
              "      <td>0</td>\n",
              "      <td>1</td>\n",
              "      <td>44</td>\n",
              "    </tr>\n",
              "    <tr>\n",
              "      <th>4</th>\n",
              "      <td>167096</td>\n",
              "      <td>2019-11-07 00:00:00+00:00</td>\n",
              "      <td>superdupersale</td>\n",
              "      <td>rix / radio</td>\n",
              "      <td>2</td>\n",
              "      <td>1</td>\n",
              "      <td>25</td>\n",
              "      <td>45029</td>\n",
              "      <td>167096</td>\n",
              "      <td>M</td>\n",
              "      <td>1970-08-03</td>\n",
              "      <td>20800</td>\n",
              "      <td>1</td>\n",
              "      <td>0</td>\n",
              "      <td>49</td>\n",
              "    </tr>\n",
              "  </tbody>\n",
              "</table>\n",
              "</div>"
            ],
            "text/plain": [
              "  dimension1                start_date        campaign  ... Male  Female  Age\n",
              "0     135468 2019-11-07 00:00:00+00:00  superdupersale  ...    1       0   60\n",
              "1     174528 2019-11-11 00:00:00+00:00  superdupersale  ...    1       0   51\n",
              "2     169987 2019-11-12 00:00:00+00:00  superdupersale  ...    1       0   46\n",
              "3     168088 2019-11-09 00:00:00+00:00  superdupersale  ...    0       1   44\n",
              "4     167096 2019-11-07 00:00:00+00:00  superdupersale  ...    1       0   49\n",
              "\n",
              "[5 rows x 15 columns]"
            ]
          },
          "metadata": {
            "tags": []
          },
          "execution_count": 14
        }
      ]
    },
    {
      "cell_type": "markdown",
      "metadata": {
        "id": "TsPG7JgYUf5q",
        "colab_type": "text"
      },
      "source": [
        "Vi har nu fått vår slutliga dataframe. Eftersom vi redan gjort jobbet i BigQuery hade det naturligtvis varit enklare att direkt läsa in den redan preparerade vyn i BigQuery, och på så sätt sluppit att göra detta på nytt i vår notebook, men då hade vi ju inte lärt oss hur det kan göras från Jupyter notebooks. Låt oss i alla fall avsluta med att läsa in vyn som vi tidigare preparerat i BigQuery för att jämföra dessa:"
      ]
    },
    {
      "cell_type": "code",
      "metadata": {
        "id": "Chf3wNvCtRCh",
        "colab_type": "code",
        "colab": {}
      },
      "source": [
        "%%bigquery --project surfsapp-8011b final_report\n",
        "SELECT * FROM `surfsapp-8011b.google_analytics.final_report`\n"
      ],
      "execution_count": 0,
      "outputs": []
    },
    {
      "cell_type": "code",
      "metadata": {
        "id": "ZnZK5YsQvrQk",
        "colab_type": "code",
        "outputId": "100ad84b-8236-4f65-b6d5-d47fda5d317d",
        "colab": {
          "base_uri": "https://localhost:8080/",
          "height": 206
        }
      },
      "source": [
        "final_report.head()"
      ],
      "execution_count": 16,
      "outputs": [
        {
          "output_type": "execute_result",
          "data": {
            "text/html": [
              "<div>\n",
              "<style scoped>\n",
              "    .dataframe tbody tr th:only-of-type {\n",
              "        vertical-align: middle;\n",
              "    }\n",
              "\n",
              "    .dataframe tbody tr th {\n",
              "        vertical-align: top;\n",
              "    }\n",
              "\n",
              "    .dataframe thead th {\n",
              "        text-align: right;\n",
              "    }\n",
              "</style>\n",
              "<table border=\"1\" class=\"dataframe\">\n",
              "  <thead>\n",
              "    <tr style=\"text-align: right;\">\n",
              "      <th></th>\n",
              "      <th>dimension1</th>\n",
              "      <th>start_date</th>\n",
              "      <th>campaign</th>\n",
              "      <th>sourcemedium</th>\n",
              "      <th>sessions</th>\n",
              "      <th>transactions</th>\n",
              "      <th>pageviews</th>\n",
              "      <th>transactionrevenue</th>\n",
              "      <th>CustomerID</th>\n",
              "      <th>Gender</th>\n",
              "      <th>DateOfBirth</th>\n",
              "      <th>ZipPostalCode</th>\n",
              "      <th>Male</th>\n",
              "      <th>Female</th>\n",
              "      <th>Age</th>\n",
              "    </tr>\n",
              "  </thead>\n",
              "  <tbody>\n",
              "    <tr>\n",
              "      <th>0</th>\n",
              "      <td>135182</td>\n",
              "      <td>2019-11-09 00:00:00+00:00</td>\n",
              "      <td>superdupersale</td>\n",
              "      <td>rix / radio</td>\n",
              "      <td>3</td>\n",
              "      <td>3</td>\n",
              "      <td>49</td>\n",
              "      <td>109187</td>\n",
              "      <td>135182</td>\n",
              "      <td>F</td>\n",
              "      <td>1964-08-03</td>\n",
              "      <td>40010</td>\n",
              "      <td>0</td>\n",
              "      <td>1</td>\n",
              "      <td>55</td>\n",
              "    </tr>\n",
              "    <tr>\n",
              "      <th>1</th>\n",
              "      <td>135182</td>\n",
              "      <td>2019-11-07 00:00:00+00:00</td>\n",
              "      <td>superdupersale</td>\n",
              "      <td>rix / radio</td>\n",
              "      <td>1</td>\n",
              "      <td>1</td>\n",
              "      <td>18</td>\n",
              "      <td>4229</td>\n",
              "      <td>135182</td>\n",
              "      <td>F</td>\n",
              "      <td>1964-08-03</td>\n",
              "      <td>40010</td>\n",
              "      <td>0</td>\n",
              "      <td>1</td>\n",
              "      <td>55</td>\n",
              "    </tr>\n",
              "    <tr>\n",
              "      <th>2</th>\n",
              "      <td>135200</td>\n",
              "      <td>2019-11-07 00:00:00+00:00</td>\n",
              "      <td>superdupersale</td>\n",
              "      <td>rix / radio</td>\n",
              "      <td>1</td>\n",
              "      <td>0</td>\n",
              "      <td>5</td>\n",
              "      <td>0</td>\n",
              "      <td>135200</td>\n",
              "      <td>F</td>\n",
              "      <td>1977-08-03</td>\n",
              "      <td>11000</td>\n",
              "      <td>0</td>\n",
              "      <td>1</td>\n",
              "      <td>42</td>\n",
              "    </tr>\n",
              "    <tr>\n",
              "      <th>3</th>\n",
              "      <td>135200</td>\n",
              "      <td>2019-11-08 00:00:00+00:00</td>\n",
              "      <td>superdupersale</td>\n",
              "      <td>rix / radio</td>\n",
              "      <td>1</td>\n",
              "      <td>0</td>\n",
              "      <td>11</td>\n",
              "      <td>0</td>\n",
              "      <td>135200</td>\n",
              "      <td>F</td>\n",
              "      <td>1977-08-03</td>\n",
              "      <td>11000</td>\n",
              "      <td>0</td>\n",
              "      <td>1</td>\n",
              "      <td>42</td>\n",
              "    </tr>\n",
              "    <tr>\n",
              "      <th>4</th>\n",
              "      <td>135200</td>\n",
              "      <td>2019-11-10 00:00:00+00:00</td>\n",
              "      <td>black_friday</td>\n",
              "      <td>aftonbladet / banner</td>\n",
              "      <td>1</td>\n",
              "      <td>1</td>\n",
              "      <td>15</td>\n",
              "      <td>15229</td>\n",
              "      <td>135200</td>\n",
              "      <td>F</td>\n",
              "      <td>1977-08-03</td>\n",
              "      <td>11000</td>\n",
              "      <td>0</td>\n",
              "      <td>1</td>\n",
              "      <td>42</td>\n",
              "    </tr>\n",
              "  </tbody>\n",
              "</table>\n",
              "</div>"
            ],
            "text/plain": [
              "  dimension1                start_date        campaign  ... Male  Female  Age\n",
              "0     135182 2019-11-09 00:00:00+00:00  superdupersale  ...    0       1   55\n",
              "1     135182 2019-11-07 00:00:00+00:00  superdupersale  ...    0       1   55\n",
              "2     135200 2019-11-07 00:00:00+00:00  superdupersale  ...    0       1   42\n",
              "3     135200 2019-11-08 00:00:00+00:00  superdupersale  ...    0       1   42\n",
              "4     135200 2019-11-10 00:00:00+00:00    black_friday  ...    0       1   42\n",
              "\n",
              "[5 rows x 15 columns]"
            ]
          },
          "metadata": {
            "tags": []
          },
          "execution_count": 16
        }
      ]
    },
    {
      "cell_type": "markdown",
      "metadata": {
        "id": "NVhDgkl647-e",
        "colab_type": "text"
      },
      "source": [
        "Slutligen kan vi spara ner vår dataframe som en csv-fil på vår Google Drive för att kunna läsa in den i andra notebooks eller i t.ex. Data Studio. För att få tillgång till vår Google Drive behöver vi först ansluta till denna."
      ]
    },
    {
      "cell_type": "code",
      "metadata": {
        "id": "775pOHmO2mjp",
        "colab_type": "code",
        "outputId": "0c8a7adb-c9e0-40c9-eb71-6347361726f3",
        "colab": {
          "base_uri": "https://localhost:8080/",
          "height": 124
        }
      },
      "source": [
        "from google.colab import drive\n",
        "drive.mount('/content/drive')"
      ],
      "execution_count": 17,
      "outputs": [
        {
          "output_type": "stream",
          "text": [
            "Go to this URL in a browser: https://accounts.google.com/o/oauth2/auth?client_id=947318989803-6bn6qk8qdgf4n4g3pfee6491hc0brc4i.apps.googleusercontent.com&redirect_uri=urn%3aietf%3awg%3aoauth%3a2.0%3aoob&response_type=code&scope=email%20https%3a%2f%2fwww.googleapis.com%2fauth%2fdocs.test%20https%3a%2f%2fwww.googleapis.com%2fauth%2fdrive%20https%3a%2f%2fwww.googleapis.com%2fauth%2fdrive.photos.readonly%20https%3a%2f%2fwww.googleapis.com%2fauth%2fpeopleapi.readonly\n",
            "\n",
            "Enter your authorization code:\n",
            "··········\n",
            "Mounted at /content/drive\n"
          ],
          "name": "stdout"
        }
      ]
    },
    {
      "cell_type": "markdown",
      "metadata": {
        "id": "0gCcsNd35e6t",
        "colab_type": "text"
      },
      "source": [
        "När vi anslutit driven kan vi spara ner vår dataframe som csv-fil:"
      ]
    },
    {
      "cell_type": "code",
      "metadata": {
        "id": "4NttcwpQ0GHF",
        "colab_type": "code",
        "colab": {}
      },
      "source": [
        "combined_df.to_csv('/content/drive/My Drive/combined_df.csv')"
      ],
      "execution_count": 0,
      "outputs": []
    }
  ]
}