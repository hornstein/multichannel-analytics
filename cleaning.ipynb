{
  "nbformat": 4,
  "nbformat_minor": 0,
  "metadata": {
    "colab": {
      "name": "cleaning.ipynb",
      "provenance": []
    },
    "kernelspec": {
      "name": "python3",
      "display_name": "Python 3"
    }
  },
  "cells": [
    {
      "cell_type": "markdown",
      "metadata": {
        "id": "PIUZcyI-msgb",
        "colab_type": "text"
      },
      "source": [
        "# Data cleaning\n",
        "\n",
        "Redan i samband med introduktionen av Jupyter notebook gick vi igenom flera metoder för att städa upp data. Vi kontrollerade t.ex. att datatyper var rätt och omvandlade dessa i de fall de var fel, och vi rensade bort data som vi inte ville ha med från vår dataframe. Det vi inte gick igenom var hur man kan fylla ut data i de fall som data saknas för t.ex. en tidsserie. Här tittar vi på ett antal alternativa metoder; *ffill*, *bfill*, samt *interpolate*. Vi utgår från vår fil oil.csv från inlämningsuppgift och läser in den från Github: "
      ]
    },
    {
      "cell_type": "code",
      "metadata": {
        "id": "AuKRVcd4e_d5",
        "colab_type": "code",
        "outputId": "7192ce47-b080-42f2-997d-38635d595676",
        "colab": {
          "base_uri": "https://localhost:8080/",
          "height": 206
        }
      },
      "source": [
        "import pandas as pd\n",
        "oil = pd.read_csv('https://raw.githubusercontent.com/hornstein/multichannel-analytics/master/data/oil.csv')\n",
        "oil.head()"
      ],
      "execution_count": 7,
      "outputs": [
        {
          "output_type": "execute_result",
          "data": {
            "text/html": [
              "<div>\n",
              "<style scoped>\n",
              "    .dataframe tbody tr th:only-of-type {\n",
              "        vertical-align: middle;\n",
              "    }\n",
              "\n",
              "    .dataframe tbody tr th {\n",
              "        vertical-align: top;\n",
              "    }\n",
              "\n",
              "    .dataframe thead th {\n",
              "        text-align: right;\n",
              "    }\n",
              "</style>\n",
              "<table border=\"1\" class=\"dataframe\">\n",
              "  <thead>\n",
              "    <tr style=\"text-align: right;\">\n",
              "      <th></th>\n",
              "      <th>date</th>\n",
              "      <th>dcoilwtico</th>\n",
              "    </tr>\n",
              "  </thead>\n",
              "  <tbody>\n",
              "    <tr>\n",
              "      <th>0</th>\n",
              "      <td>2013-01-01</td>\n",
              "      <td>NaN</td>\n",
              "    </tr>\n",
              "    <tr>\n",
              "      <th>1</th>\n",
              "      <td>2013-01-02</td>\n",
              "      <td>93.14</td>\n",
              "    </tr>\n",
              "    <tr>\n",
              "      <th>2</th>\n",
              "      <td>2013-01-03</td>\n",
              "      <td>92.97</td>\n",
              "    </tr>\n",
              "    <tr>\n",
              "      <th>3</th>\n",
              "      <td>2013-01-04</td>\n",
              "      <td>93.12</td>\n",
              "    </tr>\n",
              "    <tr>\n",
              "      <th>4</th>\n",
              "      <td>2013-01-07</td>\n",
              "      <td>93.20</td>\n",
              "    </tr>\n",
              "  </tbody>\n",
              "</table>\n",
              "</div>"
            ],
            "text/plain": [
              "         date  dcoilwtico\n",
              "0  2013-01-01         NaN\n",
              "1  2013-01-02       93.14\n",
              "2  2013-01-03       92.97\n",
              "3  2013-01-04       93.12\n",
              "4  2013-01-07       93.20"
            ]
          },
          "metadata": {
            "tags": []
          },
          "execution_count": 7
        }
      ]
    },
    {
      "cell_type": "markdown",
      "metadata": {
        "id": "cPE6Xm29tw93",
        "colab_type": "text"
      },
      "source": [
        "Låt oss kontrollera datatyperna:"
      ]
    },
    {
      "cell_type": "code",
      "metadata": {
        "id": "onV1V7O2geqI",
        "colab_type": "code",
        "outputId": "fd2776ef-571a-434a-b496-b6cdbd04b5fa",
        "colab": {
          "base_uri": "https://localhost:8080/",
          "height": 139
        }
      },
      "source": [
        "oil.info()"
      ],
      "execution_count": 8,
      "outputs": [
        {
          "output_type": "stream",
          "text": [
            "<class 'pandas.core.frame.DataFrame'>\n",
            "RangeIndex: 1218 entries, 0 to 1217\n",
            "Data columns (total 2 columns):\n",
            "date          1218 non-null object\n",
            "dcoilwtico    1175 non-null float64\n",
            "dtypes: float64(1), object(1)\n",
            "memory usage: 19.2+ KB\n"
          ],
          "name": "stdout"
        }
      ]
    },
    {
      "cell_type": "markdown",
      "metadata": {
        "id": "b6itZeY8t1Y0",
        "colab_type": "text"
      },
      "source": [
        "Vi ser att *date* har typen *object* och kan fixa till detta genom att göra om den till ett datum-format:"
      ]
    },
    {
      "cell_type": "code",
      "metadata": {
        "id": "bFtX8mVigg5E",
        "colab_type": "code",
        "outputId": "72e8e071-a431-4d3c-d00f-88b9d1149e23",
        "colab": {
          "base_uri": "https://localhost:8080/",
          "height": 139
        }
      },
      "source": [
        "oil['date'] =  pd.to_datetime(oil['date'])\n",
        "oil.info()"
      ],
      "execution_count": 9,
      "outputs": [
        {
          "output_type": "stream",
          "text": [
            "<class 'pandas.core.frame.DataFrame'>\n",
            "RangeIndex: 1218 entries, 0 to 1217\n",
            "Data columns (total 2 columns):\n",
            "date          1218 non-null datetime64[ns]\n",
            "dcoilwtico    1175 non-null float64\n",
            "dtypes: datetime64[ns](1), float64(1)\n",
            "memory usage: 19.2 KB\n"
          ],
          "name": "stdout"
        }
      ]
    },
    {
      "cell_type": "code",
      "metadata": {
        "id": "XXRD5vP0fSxr",
        "colab_type": "code",
        "outputId": "057d02bf-ee24-478b-967f-d87d7dff269a",
        "colab": {
          "base_uri": "https://localhost:8080/",
          "height": 34
        }
      },
      "source": [
        "oil['date'].min()"
      ],
      "execution_count": 10,
      "outputs": [
        {
          "output_type": "execute_result",
          "data": {
            "text/plain": [
              "Timestamp('2013-01-01 00:00:00')"
            ]
          },
          "metadata": {
            "tags": []
          },
          "execution_count": 10
        }
      ]
    },
    {
      "cell_type": "markdown",
      "metadata": {
        "id": "rXPTvfzXuSdJ",
        "colab_type": "text"
      },
      "source": [
        "Det saknas också rader för en del datum. Vi kan skapa upp en datum-range som innehåller samtliga rader med följande kommando:"
      ]
    },
    {
      "cell_type": "code",
      "metadata": {
        "id": "RxrViWBKfhLe",
        "colab_type": "code",
        "outputId": "8fc065ac-68d3-46f3-cc99-d42220f0c4af",
        "colab": {
          "base_uri": "https://localhost:8080/",
          "height": 156
        }
      },
      "source": [
        "all_days = pd.date_range(oil['date'].min(), oil['date'].max(), freq='D')\n",
        "print(all_days)"
      ],
      "execution_count": 11,
      "outputs": [
        {
          "output_type": "stream",
          "text": [
            "DatetimeIndex(['2013-01-01', '2013-01-02', '2013-01-03', '2013-01-04',\n",
            "               '2013-01-05', '2013-01-06', '2013-01-07', '2013-01-08',\n",
            "               '2013-01-09', '2013-01-10',\n",
            "               ...\n",
            "               '2017-08-22', '2017-08-23', '2017-08-24', '2017-08-25',\n",
            "               '2017-08-26', '2017-08-27', '2017-08-28', '2017-08-29',\n",
            "               '2017-08-30', '2017-08-31'],\n",
            "              dtype='datetime64[ns]', length=1704, freq='D')\n"
          ],
          "name": "stdout"
        }
      ]
    },
    {
      "cell_type": "markdown",
      "metadata": {
        "id": "pOD3a6oLuuI4",
        "colab_type": "text"
      },
      "source": [
        "Vi kan sedan lägga in denna i en dataframe:"
      ]
    },
    {
      "cell_type": "code",
      "metadata": {
        "id": "bjU58ZaMfv00",
        "colab_type": "code",
        "outputId": "dece0ab6-8646-40b7-94f4-25f34e077f6e",
        "colab": {
          "base_uri": "https://localhost:8080/",
          "height": 206
        }
      },
      "source": [
        "df = pd.DataFrame(all_days, columns = ['date'])\n",
        "df.head()"
      ],
      "execution_count": 12,
      "outputs": [
        {
          "output_type": "execute_result",
          "data": {
            "text/html": [
              "<div>\n",
              "<style scoped>\n",
              "    .dataframe tbody tr th:only-of-type {\n",
              "        vertical-align: middle;\n",
              "    }\n",
              "\n",
              "    .dataframe tbody tr th {\n",
              "        vertical-align: top;\n",
              "    }\n",
              "\n",
              "    .dataframe thead th {\n",
              "        text-align: right;\n",
              "    }\n",
              "</style>\n",
              "<table border=\"1\" class=\"dataframe\">\n",
              "  <thead>\n",
              "    <tr style=\"text-align: right;\">\n",
              "      <th></th>\n",
              "      <th>date</th>\n",
              "    </tr>\n",
              "  </thead>\n",
              "  <tbody>\n",
              "    <tr>\n",
              "      <th>0</th>\n",
              "      <td>2013-01-01</td>\n",
              "    </tr>\n",
              "    <tr>\n",
              "      <th>1</th>\n",
              "      <td>2013-01-02</td>\n",
              "    </tr>\n",
              "    <tr>\n",
              "      <th>2</th>\n",
              "      <td>2013-01-03</td>\n",
              "    </tr>\n",
              "    <tr>\n",
              "      <th>3</th>\n",
              "      <td>2013-01-04</td>\n",
              "    </tr>\n",
              "    <tr>\n",
              "      <th>4</th>\n",
              "      <td>2013-01-05</td>\n",
              "    </tr>\n",
              "  </tbody>\n",
              "</table>\n",
              "</div>"
            ],
            "text/plain": [
              "        date\n",
              "0 2013-01-01\n",
              "1 2013-01-02\n",
              "2 2013-01-03\n",
              "3 2013-01-04\n",
              "4 2013-01-05"
            ]
          },
          "metadata": {
            "tags": []
          },
          "execution_count": 12
        }
      ]
    },
    {
      "cell_type": "markdown",
      "metadata": {
        "id": "Lmr0gKTXu6Cu",
        "colab_type": "text"
      },
      "source": [
        "Nu har vi en komplett date-range, men vi har ingen data för vårt oljepris-index. Detta kan vi få genom att göra en merge med vår dataframe *oil*:"
      ]
    },
    {
      "cell_type": "code",
      "metadata": {
        "id": "n210C1RzgIjG",
        "colab_type": "code",
        "outputId": "868b7a3e-7dd8-49d2-af4a-d8e8a57c856a",
        "colab": {
          "base_uri": "https://localhost:8080/",
          "height": 206
        }
      },
      "source": [
        "df=pd.merge(df, oil, on='date', how='left')\n",
        "df.head()"
      ],
      "execution_count": 13,
      "outputs": [
        {
          "output_type": "execute_result",
          "data": {
            "text/html": [
              "<div>\n",
              "<style scoped>\n",
              "    .dataframe tbody tr th:only-of-type {\n",
              "        vertical-align: middle;\n",
              "    }\n",
              "\n",
              "    .dataframe tbody tr th {\n",
              "        vertical-align: top;\n",
              "    }\n",
              "\n",
              "    .dataframe thead th {\n",
              "        text-align: right;\n",
              "    }\n",
              "</style>\n",
              "<table border=\"1\" class=\"dataframe\">\n",
              "  <thead>\n",
              "    <tr style=\"text-align: right;\">\n",
              "      <th></th>\n",
              "      <th>date</th>\n",
              "      <th>dcoilwtico</th>\n",
              "    </tr>\n",
              "  </thead>\n",
              "  <tbody>\n",
              "    <tr>\n",
              "      <th>0</th>\n",
              "      <td>2013-01-01</td>\n",
              "      <td>NaN</td>\n",
              "    </tr>\n",
              "    <tr>\n",
              "      <th>1</th>\n",
              "      <td>2013-01-02</td>\n",
              "      <td>93.14</td>\n",
              "    </tr>\n",
              "    <tr>\n",
              "      <th>2</th>\n",
              "      <td>2013-01-03</td>\n",
              "      <td>92.97</td>\n",
              "    </tr>\n",
              "    <tr>\n",
              "      <th>3</th>\n",
              "      <td>2013-01-04</td>\n",
              "      <td>93.12</td>\n",
              "    </tr>\n",
              "    <tr>\n",
              "      <th>4</th>\n",
              "      <td>2013-01-05</td>\n",
              "      <td>NaN</td>\n",
              "    </tr>\n",
              "  </tbody>\n",
              "</table>\n",
              "</div>"
            ],
            "text/plain": [
              "        date  dcoilwtico\n",
              "0 2013-01-01         NaN\n",
              "1 2013-01-02       93.14\n",
              "2 2013-01-03       92.97\n",
              "3 2013-01-04       93.12\n",
              "4 2013-01-05         NaN"
            ]
          },
          "metadata": {
            "tags": []
          },
          "execution_count": 13
        }
      ]
    },
    {
      "cell_type": "markdown",
      "metadata": {
        "id": "eH3btQh4vR3B",
        "colab_type": "text"
      },
      "source": [
        "Vi ser att denna innehåller en del rader med värdet NaN. För att få en bättre bild av detta kan vi plotta vår dataframe:"
      ]
    },
    {
      "cell_type": "code",
      "metadata": {
        "id": "CtOoIrVNigRQ",
        "colab_type": "code",
        "outputId": "14bf80fe-19c3-4506-fc62-388749382474",
        "colab": {
          "base_uri": "https://localhost:8080/",
          "height": 407
        }
      },
      "source": [
        "import matplotlib.pyplot as plt\n",
        "plt.plot(oil['date'], oil['dcoilwtico'])"
      ],
      "execution_count": 14,
      "outputs": [
        {
          "output_type": "stream",
          "text": [
            "/usr/local/lib/python3.6/dist-packages/pandas/plotting/_matplotlib/converter.py:103: FutureWarning: Using an implicitly registered datetime converter for a matplotlib plotting method. The converter was registered by pandas on import. Future versions of pandas will require you to explicitly register matplotlib converters.\n",
            "\n",
            "To register the converters:\n",
            "\t>>> from pandas.plotting import register_matplotlib_converters\n",
            "\t>>> register_matplotlib_converters()\n",
            "  warnings.warn(msg, FutureWarning)\n"
          ],
          "name": "stderr"
        },
        {
          "output_type": "execute_result",
          "data": {
            "text/plain": [
              "[<matplotlib.lines.Line2D at 0x7fd630c71b38>]"
            ]
          },
          "metadata": {
            "tags": []
          },
          "execution_count": 14
        },
        {
          "output_type": "display_data",
          "data": {
            "image/png": "[encoded data removed]",
            "text/plain": [
              "<Figure size 432x288 with 1 Axes>"
            ]
          },
          "metadata": {
            "tags": []
          }
        }
      ]
    },
    {
      "cell_type": "markdown",
      "metadata": {
        "id": "o77F1BBSvnla",
        "colab_type": "text"
      },
      "source": [
        "Lått oss använda *ffill* för att fylla ut de värden som saknas. Ffill fyller i alla NaN-celler med föregående cells värde. I vårt fall fungerar detta för samtliga utom det första värdet eftersom vi då inte har något föregående värde att hämta data från: "
      ]
    },
    {
      "cell_type": "code",
      "metadata": {
        "id": "HGu2GzD2g8sC",
        "colab_type": "code",
        "outputId": "99b4831c-d037-4eac-8dd6-13394ee59cb7",
        "colab": {
          "base_uri": "https://localhost:8080/",
          "height": 206
        }
      },
      "source": [
        "oil_ffill=df.fillna(method='ffill')\n",
        "oil_ffill.head()"
      ],
      "execution_count": 15,
      "outputs": [
        {
          "output_type": "execute_result",
          "data": {
            "text/html": [
              "<div>\n",
              "<style scoped>\n",
              "    .dataframe tbody tr th:only-of-type {\n",
              "        vertical-align: middle;\n",
              "    }\n",
              "\n",
              "    .dataframe tbody tr th {\n",
              "        vertical-align: top;\n",
              "    }\n",
              "\n",
              "    .dataframe thead th {\n",
              "        text-align: right;\n",
              "    }\n",
              "</style>\n",
              "<table border=\"1\" class=\"dataframe\">\n",
              "  <thead>\n",
              "    <tr style=\"text-align: right;\">\n",
              "      <th></th>\n",
              "      <th>date</th>\n",
              "      <th>dcoilwtico</th>\n",
              "    </tr>\n",
              "  </thead>\n",
              "  <tbody>\n",
              "    <tr>\n",
              "      <th>0</th>\n",
              "      <td>2013-01-01</td>\n",
              "      <td>NaN</td>\n",
              "    </tr>\n",
              "    <tr>\n",
              "      <th>1</th>\n",
              "      <td>2013-01-02</td>\n",
              "      <td>93.14</td>\n",
              "    </tr>\n",
              "    <tr>\n",
              "      <th>2</th>\n",
              "      <td>2013-01-03</td>\n",
              "      <td>92.97</td>\n",
              "    </tr>\n",
              "    <tr>\n",
              "      <th>3</th>\n",
              "      <td>2013-01-04</td>\n",
              "      <td>93.12</td>\n",
              "    </tr>\n",
              "    <tr>\n",
              "      <th>4</th>\n",
              "      <td>2013-01-05</td>\n",
              "      <td>93.12</td>\n",
              "    </tr>\n",
              "  </tbody>\n",
              "</table>\n",
              "</div>"
            ],
            "text/plain": [
              "        date  dcoilwtico\n",
              "0 2013-01-01         NaN\n",
              "1 2013-01-02       93.14\n",
              "2 2013-01-03       92.97\n",
              "3 2013-01-04       93.12\n",
              "4 2013-01-05       93.12"
            ]
          },
          "metadata": {
            "tags": []
          },
          "execution_count": 15
        }
      ]
    },
    {
      "cell_type": "code",
      "metadata": {
        "id": "r0MaAwRLKR09",
        "colab_type": "code",
        "outputId": "813efa4d-5bac-42a3-b06e-b0ec643557ee",
        "colab": {
          "base_uri": "https://localhost:8080/",
          "height": 282
        }
      },
      "source": [
        "plt.plot(oil_ffill['date'], oil_ffill['dcoilwtico'])"
      ],
      "execution_count": 16,
      "outputs": [
        {
          "output_type": "execute_result",
          "data": {
            "text/plain": [
              "[<matplotlib.lines.Line2D at 0x7fd630757828>]"
            ]
          },
          "metadata": {
            "tags": []
          },
          "execution_count": 16
        },
        {
          "output_type": "display_data",
          "data": {
            "image/png": "[encoded data removed]",
            "text/plain": [
              "<Figure size 432x288 with 1 Axes>"
            ]
          },
          "metadata": {
            "tags": []
          }
        }
      ]
    },
    {
      "cell_type": "markdown",
      "metadata": {
        "id": "u__qa5l8wPda",
        "colab_type": "text"
      },
      "source": [
        "Alternativet är att göra en backfill, *bfill*, d.v.s. att istället börja från botten och fylla i uppåt. Genom att först göra en *ffill* följt av en *bfill* garanterar vi att vi har värden för samtliga celler:"
      ]
    },
    {
      "cell_type": "code",
      "metadata": {
        "id": "VfdsifgngqTX",
        "colab_type": "code",
        "outputId": "c2e20194-a74d-455b-f8ee-cfe59b80a7d4",
        "colab": {
          "base_uri": "https://localhost:8080/",
          "height": 206
        }
      },
      "source": [
        "oil_bfill=df.fillna(method='bfill')\n",
        "oil_bfill.head()"
      ],
      "execution_count": 17,
      "outputs": [
        {
          "output_type": "execute_result",
          "data": {
            "text/html": [
              "<div>\n",
              "<style scoped>\n",
              "    .dataframe tbody tr th:only-of-type {\n",
              "        vertical-align: middle;\n",
              "    }\n",
              "\n",
              "    .dataframe tbody tr th {\n",
              "        vertical-align: top;\n",
              "    }\n",
              "\n",
              "    .dataframe thead th {\n",
              "        text-align: right;\n",
              "    }\n",
              "</style>\n",
              "<table border=\"1\" class=\"dataframe\">\n",
              "  <thead>\n",
              "    <tr style=\"text-align: right;\">\n",
              "      <th></th>\n",
              "      <th>date</th>\n",
              "      <th>dcoilwtico</th>\n",
              "    </tr>\n",
              "  </thead>\n",
              "  <tbody>\n",
              "    <tr>\n",
              "      <th>0</th>\n",
              "      <td>2013-01-01</td>\n",
              "      <td>93.14</td>\n",
              "    </tr>\n",
              "    <tr>\n",
              "      <th>1</th>\n",
              "      <td>2013-01-02</td>\n",
              "      <td>93.14</td>\n",
              "    </tr>\n",
              "    <tr>\n",
              "      <th>2</th>\n",
              "      <td>2013-01-03</td>\n",
              "      <td>92.97</td>\n",
              "    </tr>\n",
              "    <tr>\n",
              "      <th>3</th>\n",
              "      <td>2013-01-04</td>\n",
              "      <td>93.12</td>\n",
              "    </tr>\n",
              "    <tr>\n",
              "      <th>4</th>\n",
              "      <td>2013-01-05</td>\n",
              "      <td>93.20</td>\n",
              "    </tr>\n",
              "  </tbody>\n",
              "</table>\n",
              "</div>"
            ],
            "text/plain": [
              "        date  dcoilwtico\n",
              "0 2013-01-01       93.14\n",
              "1 2013-01-02       93.14\n",
              "2 2013-01-03       92.97\n",
              "3 2013-01-04       93.12\n",
              "4 2013-01-05       93.20"
            ]
          },
          "metadata": {
            "tags": []
          },
          "execution_count": 17
        }
      ]
    },
    {
      "cell_type": "code",
      "metadata": {
        "id": "Smp7Bv2DKOji",
        "colab_type": "code",
        "outputId": "cd363477-3f09-42c1-e770-ae2d1a9edbd6",
        "colab": {
          "base_uri": "https://localhost:8080/",
          "height": 282
        }
      },
      "source": [
        "plt.plot(oil_bfill['date'], oil_bfill['dcoilwtico'])"
      ],
      "execution_count": 18,
      "outputs": [
        {
          "output_type": "execute_result",
          "data": {
            "text/plain": [
              "[<matplotlib.lines.Line2D at 0x7fd6307309b0>]"
            ]
          },
          "metadata": {
            "tags": []
          },
          "execution_count": 18
        },
        {
          "output_type": "display_data",
          "data": {
            "image/png": "[encoded data removed]",
            "text/plain": [
              "<Figure size 432x288 with 1 Axes>"
            ]
          },
          "metadata": {
            "tags": []
          }
        }
      ]
    },
    {
      "cell_type": "markdown",
      "metadata": {
        "id": "hId6sD2IwxTI",
        "colab_type": "text"
      },
      "source": [
        "Om det finns många rader i följd med värdet värdet NaN så kan det bli ett hack i grafen med *ffill* och *bfill* eftersom alla raderna i sekvensen får samma värde. I de fallen kan det vara bättre att titta på både på det sista värdet innan vår sekvens av NaN, samt första värdet efteråt, och sedan göra en linjär interpolation mellan dessa:"
      ]
    },
    {
      "cell_type": "code",
      "metadata": {
        "id": "ngCSn4PbKimB",
        "colab_type": "code",
        "outputId": "312ba397-3b8a-4c71-d906-22a361082251",
        "colab": {
          "base_uri": "https://localhost:8080/",
          "height": 206
        }
      },
      "source": [
        "oil_interpolated=df.interpolate()\n",
        "oil_interpolated.head()"
      ],
      "execution_count": 19,
      "outputs": [
        {
          "output_type": "execute_result",
          "data": {
            "text/html": [
              "<div>\n",
              "<style scoped>\n",
              "    .dataframe tbody tr th:only-of-type {\n",
              "        vertical-align: middle;\n",
              "    }\n",
              "\n",
              "    .dataframe tbody tr th {\n",
              "        vertical-align: top;\n",
              "    }\n",
              "\n",
              "    .dataframe thead th {\n",
              "        text-align: right;\n",
              "    }\n",
              "</style>\n",
              "<table border=\"1\" class=\"dataframe\">\n",
              "  <thead>\n",
              "    <tr style=\"text-align: right;\">\n",
              "      <th></th>\n",
              "      <th>date</th>\n",
              "      <th>dcoilwtico</th>\n",
              "    </tr>\n",
              "  </thead>\n",
              "  <tbody>\n",
              "    <tr>\n",
              "      <th>0</th>\n",
              "      <td>2013-01-01</td>\n",
              "      <td>NaN</td>\n",
              "    </tr>\n",
              "    <tr>\n",
              "      <th>1</th>\n",
              "      <td>2013-01-02</td>\n",
              "      <td>93.140000</td>\n",
              "    </tr>\n",
              "    <tr>\n",
              "      <th>2</th>\n",
              "      <td>2013-01-03</td>\n",
              "      <td>92.970000</td>\n",
              "    </tr>\n",
              "    <tr>\n",
              "      <th>3</th>\n",
              "      <td>2013-01-04</td>\n",
              "      <td>93.120000</td>\n",
              "    </tr>\n",
              "    <tr>\n",
              "      <th>4</th>\n",
              "      <td>2013-01-05</td>\n",
              "      <td>93.146667</td>\n",
              "    </tr>\n",
              "  </tbody>\n",
              "</table>\n",
              "</div>"
            ],
            "text/plain": [
              "        date  dcoilwtico\n",
              "0 2013-01-01         NaN\n",
              "1 2013-01-02   93.140000\n",
              "2 2013-01-03   92.970000\n",
              "3 2013-01-04   93.120000\n",
              "4 2013-01-05   93.146667"
            ]
          },
          "metadata": {
            "tags": []
          },
          "execution_count": 19
        }
      ]
    }
  ]
}