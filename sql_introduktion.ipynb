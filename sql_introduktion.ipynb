{
  "nbformat": 4,
  "nbformat_minor": 0,
  "metadata": {
    "colab": {
      "name": "sql_introduktion.ipynb",
      "provenance": []
    },
    "kernelspec": {
      "name": "python3",
      "display_name": "Python 3"
    }
  },
  "cells": [
    {
      "cell_type": "markdown",
      "metadata": {
        "id": "qJ3px1d0DhUj",
        "colab_type": "text"
      },
      "source": [
        "# SQL introduktion\n",
        "\n",
        "I det här avsnittet kollar vi hur man kan hämta ut data ur vårt Data warehouse med hjälp av SQL.\n",
        "\n",
        "För att kunna köra nedanstående SQL-frågor behöver du antingen logga in på BigQuery, eller öppna denna Jupyter notebook i Google colab och köra följande kod: \n"
      ]
    },
    {
      "cell_type": "code",
      "metadata": {
        "id": "4-6Cf6mkDf7K",
        "colab_type": "code",
        "colab": {
          "base_uri": "https://localhost:8080/",
          "height": 34
        },
        "outputId": "eeb07439-02bb-41f7-8ce4-0af08fb73001"
      },
      "source": [
        "from google.colab import auth\n",
        "auth.authenticate_user()\n",
        "print('Authenticated')"
      ],
      "execution_count": 1,
      "outputs": [
        {
          "output_type": "stream",
          "text": [
            "Authenticated\n"
          ],
          "name": "stdout"
        }
      ]
    },
    {
      "cell_type": "markdown",
      "metadata": {
        "id": "5nUYIp0sExQ9",
        "colab_type": "text"
      },
      "source": [
        "Vi har tidigare tittat på hur vi kan använda Stitchdata för att periodvis replikera över data från vårt Google Analytics-konto samt vår CRM-databas till BigQuery. Nedan tittar vi på hur man kan söka i dessa, samt hur man kan slå ihop data från Google Analytics och CRM-databasen.\n",
        "\n",
        "## Select\n",
        "\n",
        "Låt oss ta en snabb titt på vår Google Analytics-data genom att köra select-satsen nedan:"
      ]
    },
    {
      "cell_type": "code",
      "metadata": {
        "id": "kii_o07-E7In",
        "colab_type": "code",
        "colab": {
          "base_uri": "https://localhost:8080/",
          "height": 293
        },
        "outputId": "eb7a5072-de35-4d25-a2cf-3fbef3e74ee4"
      },
      "source": [
        "%%bigquery --project surfsapp-8011b\n",
        "\n",
        "SELECT * FROM `surfsapp-8011b.google_analytics.report` LIMIT 5"
      ],
      "execution_count": 4,
      "outputs": [
        {
          "output_type": "execute_result",
          "data": {
            "text/html": [
              "<div>\n",
              "<style scoped>\n",
              "    .dataframe tbody tr th:only-of-type {\n",
              "        vertical-align: middle;\n",
              "    }\n",
              "\n",
              "    .dataframe tbody tr th {\n",
              "        vertical-align: top;\n",
              "    }\n",
              "\n",
              "    .dataframe thead th {\n",
              "        text-align: right;\n",
              "    }\n",
              "</style>\n",
              "<table border=\"1\" class=\"dataframe\">\n",
              "  <thead>\n",
              "    <tr style=\"text-align: right;\">\n",
              "      <th></th>\n",
              "      <th>dimension1</th>\n",
              "      <th>end_date</th>\n",
              "      <th>sessions</th>\n",
              "      <th>_rjm_record_hash</th>\n",
              "      <th>_sdc_table_version</th>\n",
              "      <th>campaign</th>\n",
              "      <th>sourcemedium</th>\n",
              "      <th>_sdc_received_at</th>\n",
              "      <th>_sdc_sequence</th>\n",
              "      <th>start_date</th>\n",
              "      <th>transactions</th>\n",
              "      <th>pageviews</th>\n",
              "      <th>_sdc_batched_at</th>\n",
              "      <th>transactionrevenue</th>\n",
              "    </tr>\n",
              "  </thead>\n",
              "  <tbody>\n",
              "    <tr>\n",
              "      <th>0</th>\n",
              "      <td>135193</td>\n",
              "      <td>2019-11-08 00:00:00+00:00</td>\n",
              "      <td>1</td>\n",
              "      <td>f1c2b319f8b8ad44c1eb6334052cb6eda95ab7cf73dd9e...</td>\n",
              "      <td>0</td>\n",
              "      <td>(not set)</td>\n",
              "      <td>(direct) / (none)</td>\n",
              "      <td>2019-11-23 04:12:04.977000+00:00</td>\n",
              "      <td>1574482324784</td>\n",
              "      <td>2019-11-08 00:00:00+00:00</td>\n",
              "      <td>0</td>\n",
              "      <td>24</td>\n",
              "      <td>2019-11-23 04:27:34.122000+00:00</td>\n",
              "      <td>0</td>\n",
              "    </tr>\n",
              "    <tr>\n",
              "      <th>1</th>\n",
              "      <td>135334</td>\n",
              "      <td>2019-11-08 00:00:00+00:00</td>\n",
              "      <td>1</td>\n",
              "      <td>dcd44ad1dd908ecd8671898c76a9eb225b5bd7bb5f2f26...</td>\n",
              "      <td>0</td>\n",
              "      <td>(not set)</td>\n",
              "      <td>(direct) / (none)</td>\n",
              "      <td>2019-11-23 04:12:04.977000+00:00</td>\n",
              "      <td>1574482324784</td>\n",
              "      <td>2019-11-08 00:00:00+00:00</td>\n",
              "      <td>0</td>\n",
              "      <td>6</td>\n",
              "      <td>2019-11-23 04:27:34.123000+00:00</td>\n",
              "      <td>0</td>\n",
              "    </tr>\n",
              "    <tr>\n",
              "      <th>2</th>\n",
              "      <td>135355</td>\n",
              "      <td>2019-11-08 00:00:00+00:00</td>\n",
              "      <td>1</td>\n",
              "      <td>908674783811bc690fc2347ee035705df3a3a10ce7d591...</td>\n",
              "      <td>0</td>\n",
              "      <td>(not set)</td>\n",
              "      <td>(direct) / (none)</td>\n",
              "      <td>2019-11-23 04:12:04.977000+00:00</td>\n",
              "      <td>1574482324784</td>\n",
              "      <td>2019-11-08 00:00:00+00:00</td>\n",
              "      <td>0</td>\n",
              "      <td>5</td>\n",
              "      <td>2019-11-23 04:27:34.123000+00:00</td>\n",
              "      <td>0</td>\n",
              "    </tr>\n",
              "    <tr>\n",
              "      <th>3</th>\n",
              "      <td>135365</td>\n",
              "      <td>2019-11-08 00:00:00+00:00</td>\n",
              "      <td>1</td>\n",
              "      <td>5dc302840a9ecb351ef0b17f81f0d8fca208dadc499084...</td>\n",
              "      <td>0</td>\n",
              "      <td>(not set)</td>\n",
              "      <td>(direct) / (none)</td>\n",
              "      <td>2019-11-23 04:12:04.977000+00:00</td>\n",
              "      <td>1574482324784</td>\n",
              "      <td>2019-11-08 00:00:00+00:00</td>\n",
              "      <td>0</td>\n",
              "      <td>14</td>\n",
              "      <td>2019-11-23 04:27:34.123000+00:00</td>\n",
              "      <td>0</td>\n",
              "    </tr>\n",
              "    <tr>\n",
              "      <th>4</th>\n",
              "      <td>135369</td>\n",
              "      <td>2019-11-08 00:00:00+00:00</td>\n",
              "      <td>1</td>\n",
              "      <td>e5b390c8fba5a892ee8d3e106b672ecf9cf80dc1b3b52b...</td>\n",
              "      <td>0</td>\n",
              "      <td>(not set)</td>\n",
              "      <td>(direct) / (none)</td>\n",
              "      <td>2019-11-23 04:12:04.977000+00:00</td>\n",
              "      <td>1574482324784</td>\n",
              "      <td>2019-11-08 00:00:00+00:00</td>\n",
              "      <td>0</td>\n",
              "      <td>9</td>\n",
              "      <td>2019-11-23 04:27:34.124000+00:00</td>\n",
              "      <td>0</td>\n",
              "    </tr>\n",
              "  </tbody>\n",
              "</table>\n",
              "</div>"
            ],
            "text/plain": [
              "  dimension1  ... transactionrevenue\n",
              "0     135193  ...                  0\n",
              "1     135334  ...                  0\n",
              "2     135355  ...                  0\n",
              "3     135365  ...                  0\n",
              "4     135369  ...                  0\n",
              "\n",
              "[5 rows x 14 columns]"
            ]
          },
          "metadata": {
            "tags": []
          },
          "execution_count": 4
        }
      ]
    },
    {
      "cell_type": "markdown",
      "metadata": {
        "id": "8nJ-GiCrGerp",
        "colab_type": "text"
      },
      "source": [
        "Med select väljer vi ut vilka kolumner vi är intresserade av. Vi kan se att Stitchdata har lagt till en del kolumner som börjar på _rjm och _sdc som Stitchdata använder internt för att synka över data. För att göra vår dataanalys är vi inte intresserade av dessa utan väljer enbart de kolumner som vi är intresserade av:"
      ]
    },
    {
      "cell_type": "code",
      "metadata": {
        "id": "NCUrZiuUIRhY",
        "colab_type": "code",
        "colab": {
          "base_uri": "https://localhost:8080/",
          "height": 206
        },
        "outputId": "3656b3d0-a60b-4850-929c-18ae7b6ca6fd"
      },
      "source": [
        "%%bigquery --project surfsapp-8011b\n",
        "\n",
        "SELECT distinct\n",
        "  dimension1,\n",
        "  start_date,\n",
        "  campaign,\n",
        "  sourcemedium,\n",
        "  sessions,\n",
        "  transactions,\n",
        "  pageviews,\n",
        "  transactionrevenue\n",
        "FROM `surfsapp-8011b.google_analytics.report` LIMIT 5"
      ],
      "execution_count": 5,
      "outputs": [
        {
          "output_type": "execute_result",
          "data": {
            "text/html": [
              "<div>\n",
              "<style scoped>\n",
              "    .dataframe tbody tr th:only-of-type {\n",
              "        vertical-align: middle;\n",
              "    }\n",
              "\n",
              "    .dataframe tbody tr th {\n",
              "        vertical-align: top;\n",
              "    }\n",
              "\n",
              "    .dataframe thead th {\n",
              "        text-align: right;\n",
              "    }\n",
              "</style>\n",
              "<table border=\"1\" class=\"dataframe\">\n",
              "  <thead>\n",
              "    <tr style=\"text-align: right;\">\n",
              "      <th></th>\n",
              "      <th>dimension1</th>\n",
              "      <th>start_date</th>\n",
              "      <th>campaign</th>\n",
              "      <th>sourcemedium</th>\n",
              "      <th>sessions</th>\n",
              "      <th>transactions</th>\n",
              "      <th>pageviews</th>\n",
              "      <th>transactionrevenue</th>\n",
              "    </tr>\n",
              "  </thead>\n",
              "  <tbody>\n",
              "    <tr>\n",
              "      <th>0</th>\n",
              "      <td>135193</td>\n",
              "      <td>2019-11-08 00:00:00+00:00</td>\n",
              "      <td>(not set)</td>\n",
              "      <td>(direct) / (none)</td>\n",
              "      <td>1</td>\n",
              "      <td>0</td>\n",
              "      <td>24</td>\n",
              "      <td>0</td>\n",
              "    </tr>\n",
              "    <tr>\n",
              "      <th>1</th>\n",
              "      <td>135334</td>\n",
              "      <td>2019-11-08 00:00:00+00:00</td>\n",
              "      <td>(not set)</td>\n",
              "      <td>(direct) / (none)</td>\n",
              "      <td>1</td>\n",
              "      <td>0</td>\n",
              "      <td>6</td>\n",
              "      <td>0</td>\n",
              "    </tr>\n",
              "    <tr>\n",
              "      <th>2</th>\n",
              "      <td>135365</td>\n",
              "      <td>2019-11-08 00:00:00+00:00</td>\n",
              "      <td>(not set)</td>\n",
              "      <td>(direct) / (none)</td>\n",
              "      <td>1</td>\n",
              "      <td>0</td>\n",
              "      <td>14</td>\n",
              "      <td>0</td>\n",
              "    </tr>\n",
              "    <tr>\n",
              "      <th>3</th>\n",
              "      <td>135377</td>\n",
              "      <td>2019-11-08 00:00:00+00:00</td>\n",
              "      <td>(not set)</td>\n",
              "      <td>(direct) / (none)</td>\n",
              "      <td>1</td>\n",
              "      <td>0</td>\n",
              "      <td>12</td>\n",
              "      <td>0</td>\n",
              "    </tr>\n",
              "    <tr>\n",
              "      <th>4</th>\n",
              "      <td>135447</td>\n",
              "      <td>2019-11-08 00:00:00+00:00</td>\n",
              "      <td>(not set)</td>\n",
              "      <td>(direct) / (none)</td>\n",
              "      <td>1</td>\n",
              "      <td>0</td>\n",
              "      <td>8</td>\n",
              "      <td>0</td>\n",
              "    </tr>\n",
              "  </tbody>\n",
              "</table>\n",
              "</div>"
            ],
            "text/plain": [
              "  dimension1                start_date  ... pageviews transactionrevenue\n",
              "0     135193 2019-11-08 00:00:00+00:00  ...        24                  0\n",
              "1     135334 2019-11-08 00:00:00+00:00  ...         6                  0\n",
              "2     135365 2019-11-08 00:00:00+00:00  ...        14                  0\n",
              "3     135377 2019-11-08 00:00:00+00:00  ...        12                  0\n",
              "4     135447 2019-11-08 00:00:00+00:00  ...         8                  0\n",
              "\n",
              "[5 rows x 8 columns]"
            ]
          },
          "metadata": {
            "tags": []
          },
          "execution_count": 5
        }
      ]
    },
    {
      "cell_type": "markdown",
      "metadata": {
        "id": "aGl3IiVvI6Un",
        "colab_type": "text"
      },
      "source": [
        "I sökningen ovan har vi även lagt till *distinct* för att deduplicera resultaten. Anledningen till att vi behöver lägga till detta är att Stitchdata vid varje replikeringstillfälle tar med sig de senaste 15 dagarnas data och skickar denna till BigQuery och eftersom vi kör replikeringen var sjätte timma så kommer samma data att finnas på flera ställen i tabellen.\n",
        "\n",
        "## Where\n",
        "\n",
        "Med select väljer vi ut vilka kolumner vi vill läsa ut, men vill vi även specificera specifika rader som vi vill läsa ut så kan vi göra detta genom att lägga till en where-sats. Nedan tar vi bara med rader för ett specifikt datumintervall:\n"
      ]
    },
    {
      "cell_type": "code",
      "metadata": {
        "id": "DdZQ462KIyeH",
        "colab_type": "code",
        "colab": {
          "base_uri": "https://localhost:8080/",
          "height": 206
        },
        "outputId": "87acaa94-c65e-4d91-8a4e-ca5ea3d5d60a"
      },
      "source": [
        "%%bigquery --project surfsapp-8011b\n",
        "\n",
        "SELECT distinct\n",
        "  dimension1,\n",
        "  start_date,\n",
        "  campaign,\n",
        "  sourcemedium,\n",
        "  sessions,\n",
        "  transactions,\n",
        "  pageviews,\n",
        "  transactionrevenue\n",
        "FROM `surfsapp-8011b.google_analytics.report` \n",
        "where start_date between '2019-11-06' and '2019-11-13' LIMIT 5"
      ],
      "execution_count": 6,
      "outputs": [
        {
          "output_type": "execute_result",
          "data": {
            "text/html": [
              "<div>\n",
              "<style scoped>\n",
              "    .dataframe tbody tr th:only-of-type {\n",
              "        vertical-align: middle;\n",
              "    }\n",
              "\n",
              "    .dataframe tbody tr th {\n",
              "        vertical-align: top;\n",
              "    }\n",
              "\n",
              "    .dataframe thead th {\n",
              "        text-align: right;\n",
              "    }\n",
              "</style>\n",
              "<table border=\"1\" class=\"dataframe\">\n",
              "  <thead>\n",
              "    <tr style=\"text-align: right;\">\n",
              "      <th></th>\n",
              "      <th>dimension1</th>\n",
              "      <th>start_date</th>\n",
              "      <th>campaign</th>\n",
              "      <th>sourcemedium</th>\n",
              "      <th>sessions</th>\n",
              "      <th>transactions</th>\n",
              "      <th>pageviews</th>\n",
              "      <th>transactionrevenue</th>\n",
              "    </tr>\n",
              "  </thead>\n",
              "  <tbody>\n",
              "    <tr>\n",
              "      <th>0</th>\n",
              "      <td>171569</td>\n",
              "      <td>2019-11-12 00:00:00+00:00</td>\n",
              "      <td>(not set)</td>\n",
              "      <td>(direct) / (none)</td>\n",
              "      <td>1</td>\n",
              "      <td>0</td>\n",
              "      <td>5</td>\n",
              "      <td>0</td>\n",
              "    </tr>\n",
              "    <tr>\n",
              "      <th>1</th>\n",
              "      <td>173517</td>\n",
              "      <td>2019-11-12 00:00:00+00:00</td>\n",
              "      <td>(not set)</td>\n",
              "      <td>(direct) / (none)</td>\n",
              "      <td>2</td>\n",
              "      <td>0</td>\n",
              "      <td>20</td>\n",
              "      <td>0</td>\n",
              "    </tr>\n",
              "    <tr>\n",
              "      <th>2</th>\n",
              "      <td>175035</td>\n",
              "      <td>2019-11-12 00:00:00+00:00</td>\n",
              "      <td>(not set)</td>\n",
              "      <td>(direct) / (none)</td>\n",
              "      <td>1</td>\n",
              "      <td>0</td>\n",
              "      <td>14</td>\n",
              "      <td>0</td>\n",
              "    </tr>\n",
              "    <tr>\n",
              "      <th>3</th>\n",
              "      <td>175755</td>\n",
              "      <td>2019-11-12 00:00:00+00:00</td>\n",
              "      <td>(not set)</td>\n",
              "      <td>(direct) / (none)</td>\n",
              "      <td>1</td>\n",
              "      <td>0</td>\n",
              "      <td>11</td>\n",
              "      <td>0</td>\n",
              "    </tr>\n",
              "    <tr>\n",
              "      <th>4</th>\n",
              "      <td>175917</td>\n",
              "      <td>2019-11-12 00:00:00+00:00</td>\n",
              "      <td>(not set)</td>\n",
              "      <td>(direct) / (none)</td>\n",
              "      <td>1</td>\n",
              "      <td>0</td>\n",
              "      <td>17</td>\n",
              "      <td>0</td>\n",
              "    </tr>\n",
              "  </tbody>\n",
              "</table>\n",
              "</div>"
            ],
            "text/plain": [
              "  dimension1                start_date  ... pageviews transactionrevenue\n",
              "0     171569 2019-11-12 00:00:00+00:00  ...         5                  0\n",
              "1     173517 2019-11-12 00:00:00+00:00  ...        20                  0\n",
              "2     175035 2019-11-12 00:00:00+00:00  ...        14                  0\n",
              "3     175755 2019-11-12 00:00:00+00:00  ...        11                  0\n",
              "4     175917 2019-11-12 00:00:00+00:00  ...        17                  0\n",
              "\n",
              "[5 rows x 8 columns]"
            ]
          },
          "metadata": {
            "tags": []
          },
          "execution_count": 6
        }
      ]
    },
    {
      "cell_type": "markdown",
      "metadata": {
        "id": "uT3aUqrIMGYy",
        "colab_type": "text"
      },
      "source": [
        "## Join\n",
        "\n",
        "Det går som sagt att använda SQL, inte bara till att söka i data i en tabell, utan också för att kombinera och hämta ut data från flera tabeller.\n",
        "\n",
        "Det som krävs för att man skall kunna slå ihop tabeller med hjälp av en join-sats är att det finns någon gemensam nyckel i båda tabellerna. I vår Google Analytics data ovan har vi t.ex. nyckeln *dimension1* som innehåller vårt user id. Tittar vi på vår CRM-data så kan vi se att vi motsvarande user id i en kolumn som heter *CustomerID*:"
      ]
    },
    {
      "cell_type": "code",
      "metadata": {
        "id": "RxhYu3kBNdQj",
        "colab_type": "code",
        "colab": {
          "base_uri": "https://localhost:8080/",
          "height": 206
        },
        "outputId": "d9e3d851-ab0e-4a9a-d540-f938eb3484e9"
      },
      "source": [
        "%%bigquery --project surfsapp-8011b\n",
        "\n",
        "SELECT * FROM `surfsapp-8011b.nop_database.customer_data` LIMIT 5"
      ],
      "execution_count": 7,
      "outputs": [
        {
          "output_type": "execute_result",
          "data": {
            "text/html": [
              "<div>\n",
              "<style scoped>\n",
              "    .dataframe tbody tr th:only-of-type {\n",
              "        vertical-align: middle;\n",
              "    }\n",
              "\n",
              "    .dataframe tbody tr th {\n",
              "        vertical-align: top;\n",
              "    }\n",
              "\n",
              "    .dataframe thead th {\n",
              "        text-align: right;\n",
              "    }\n",
              "</style>\n",
              "<table border=\"1\" class=\"dataframe\">\n",
              "  <thead>\n",
              "    <tr style=\"text-align: right;\">\n",
              "      <th></th>\n",
              "      <th>CustomerID</th>\n",
              "      <th>Gender</th>\n",
              "      <th>DateOfBirth</th>\n",
              "      <th>ZipPostalCode</th>\n",
              "    </tr>\n",
              "  </thead>\n",
              "  <tbody>\n",
              "    <tr>\n",
              "      <th>0</th>\n",
              "      <td>138122</td>\n",
              "      <td>M</td>\n",
              "      <td>1958-08-03</td>\n",
              "      <td>20800</td>\n",
              "    </tr>\n",
              "    <tr>\n",
              "      <th>1</th>\n",
              "      <td>129472</td>\n",
              "      <td>M</td>\n",
              "      <td>1962-08-03</td>\n",
              "      <td>40010</td>\n",
              "    </tr>\n",
              "    <tr>\n",
              "      <th>2</th>\n",
              "      <td>135384</td>\n",
              "      <td>M</td>\n",
              "      <td>1962-08-03</td>\n",
              "      <td>40010</td>\n",
              "    </tr>\n",
              "    <tr>\n",
              "      <th>3</th>\n",
              "      <td>131694</td>\n",
              "      <td>F</td>\n",
              "      <td>1973-08-03</td>\n",
              "      <td>20800</td>\n",
              "    </tr>\n",
              "    <tr>\n",
              "      <th>4</th>\n",
              "      <td>140362</td>\n",
              "      <td>F</td>\n",
              "      <td>1973-08-03</td>\n",
              "      <td>11000</td>\n",
              "    </tr>\n",
              "  </tbody>\n",
              "</table>\n",
              "</div>"
            ],
            "text/plain": [
              "   CustomerID Gender DateOfBirth ZipPostalCode\n",
              "0      138122      M  1958-08-03         20800\n",
              "1      129472      M  1962-08-03         40010\n",
              "2      135384      M  1962-08-03         40010\n",
              "3      131694      F  1973-08-03         20800\n",
              "4      140362      F  1973-08-03         11000"
            ]
          },
          "metadata": {
            "tags": []
          },
          "execution_count": 7
        }
      ]
    },
    {
      "cell_type": "markdown",
      "metadata": {
        "id": "MNZoEj2_Oeu5",
        "colab_type": "text"
      },
      "source": [
        "Om vi vill utöka vår GA-data med data om Gender, DateOfBirth, och ZipPostalCode från vårt CRM-system så kan vi göra det genom att utgå från vår GA-data och göra en left join med vår CRM-data där dimension1 i vår GA-data matchar CustomerID i vår CRM-data. "
      ]
    },
    {
      "cell_type": "code",
      "metadata": {
        "id": "TuZXLQdyOB9o",
        "colab_type": "code",
        "colab": {
          "base_uri": "https://localhost:8080/",
          "height": 206
        },
        "outputId": "68262423-fe90-4077-b5de-5f44d462ba8b"
      },
      "source": [
        "%%bigquery --project surfsapp-8011b\n",
        "\n",
        "SELECT *\n",
        "FROM `surfsapp-8011b.google_analytics.ga_report` ga \n",
        "LEFT JOIN `surfsapp-8011b.nop_database.customer_data` crm ON ga.dimension1=CAST(crm.CustomerID AS string) LIMIT 5"
      ],
      "execution_count": 9,
      "outputs": [
        {
          "output_type": "execute_result",
          "data": {
            "text/html": [
              "<div>\n",
              "<style scoped>\n",
              "    .dataframe tbody tr th:only-of-type {\n",
              "        vertical-align: middle;\n",
              "    }\n",
              "\n",
              "    .dataframe tbody tr th {\n",
              "        vertical-align: top;\n",
              "    }\n",
              "\n",
              "    .dataframe thead th {\n",
              "        text-align: right;\n",
              "    }\n",
              "</style>\n",
              "<table border=\"1\" class=\"dataframe\">\n",
              "  <thead>\n",
              "    <tr style=\"text-align: right;\">\n",
              "      <th></th>\n",
              "      <th>dimension1</th>\n",
              "      <th>start_date</th>\n",
              "      <th>campaign</th>\n",
              "      <th>sourcemedium</th>\n",
              "      <th>sessions</th>\n",
              "      <th>transactions</th>\n",
              "      <th>pageviews</th>\n",
              "      <th>transactionrevenue</th>\n",
              "      <th>CustomerID</th>\n",
              "      <th>Gender</th>\n",
              "      <th>DateOfBirth</th>\n",
              "      <th>ZipPostalCode</th>\n",
              "    </tr>\n",
              "  </thead>\n",
              "  <tbody>\n",
              "    <tr>\n",
              "      <th>0</th>\n",
              "      <td>135468</td>\n",
              "      <td>2019-11-07 00:00:00+00:00</td>\n",
              "      <td>superdupersale</td>\n",
              "      <td>rix / radio</td>\n",
              "      <td>1</td>\n",
              "      <td>0</td>\n",
              "      <td>11</td>\n",
              "      <td>0</td>\n",
              "      <td>135468</td>\n",
              "      <td>M</td>\n",
              "      <td>1959-08-03</td>\n",
              "      <td>11000</td>\n",
              "    </tr>\n",
              "    <tr>\n",
              "      <th>1</th>\n",
              "      <td>174528</td>\n",
              "      <td>2019-11-11 00:00:00+00:00</td>\n",
              "      <td>superdupersale</td>\n",
              "      <td>rix / radio</td>\n",
              "      <td>1</td>\n",
              "      <td>1</td>\n",
              "      <td>19</td>\n",
              "      <td>30129</td>\n",
              "      <td>174528</td>\n",
              "      <td>M</td>\n",
              "      <td>1968-08-03</td>\n",
              "      <td>20800</td>\n",
              "    </tr>\n",
              "    <tr>\n",
              "      <th>2</th>\n",
              "      <td>169987</td>\n",
              "      <td>2019-11-12 00:00:00+00:00</td>\n",
              "      <td>superdupersale</td>\n",
              "      <td>rix / radio</td>\n",
              "      <td>1</td>\n",
              "      <td>1</td>\n",
              "      <td>17</td>\n",
              "      <td>25329</td>\n",
              "      <td>169987</td>\n",
              "      <td>M</td>\n",
              "      <td>1973-08-03</td>\n",
              "      <td>40010</td>\n",
              "    </tr>\n",
              "    <tr>\n",
              "      <th>3</th>\n",
              "      <td>167096</td>\n",
              "      <td>2019-11-07 00:00:00+00:00</td>\n",
              "      <td>superdupersale</td>\n",
              "      <td>rix / radio</td>\n",
              "      <td>2</td>\n",
              "      <td>1</td>\n",
              "      <td>25</td>\n",
              "      <td>45029</td>\n",
              "      <td>167096</td>\n",
              "      <td>M</td>\n",
              "      <td>1970-08-03</td>\n",
              "      <td>20800</td>\n",
              "    </tr>\n",
              "    <tr>\n",
              "      <th>4</th>\n",
              "      <td>135598</td>\n",
              "      <td>2019-11-07 00:00:00+00:00</td>\n",
              "      <td>superdupersale</td>\n",
              "      <td>rix / radio</td>\n",
              "      <td>2</td>\n",
              "      <td>1</td>\n",
              "      <td>29</td>\n",
              "      <td>4529</td>\n",
              "      <td>135598</td>\n",
              "      <td>F</td>\n",
              "      <td>1959-08-03</td>\n",
              "      <td>11000</td>\n",
              "    </tr>\n",
              "  </tbody>\n",
              "</table>\n",
              "</div>"
            ],
            "text/plain": [
              "  dimension1                start_date  ... DateOfBirth ZipPostalCode\n",
              "0     135468 2019-11-07 00:00:00+00:00  ...  1959-08-03         11000\n",
              "1     174528 2019-11-11 00:00:00+00:00  ...  1968-08-03         20800\n",
              "2     169987 2019-11-12 00:00:00+00:00  ...  1973-08-03         40010\n",
              "3     167096 2019-11-07 00:00:00+00:00  ...  1970-08-03         20800\n",
              "4     135598 2019-11-07 00:00:00+00:00  ...  1959-08-03         11000\n",
              "\n",
              "[5 rows x 12 columns]"
            ]
          },
          "metadata": {
            "tags": []
          },
          "execution_count": 9
        }
      ]
    },
    {
      "cell_type": "markdown",
      "metadata": {
        "id": "6RSUIC8LQyWU",
        "colab_type": "text"
      },
      "source": [
        "Med left join behåller vi vår GA-data som den är och lägger till CRM-data på de rader där vi hittar ett matchande user-id i vår CRM-data. Hade vi istället gjort en inner join hade vi enbart tagit med user-id som finns i både vår GA-data och vår CRM-data och läst in data för dessa. Det går också att göra en outer join där vi tar med alla user-id som finns antingen i vår GA-data eller i vår CRM-data och hämtar den data vi har tillgänglig för detta ur respektive tabell...\n",
        "\n",
        "## Group by\n",
        "\n",
        "Vi kan också använda SQL för att aggregera data med hjälp av group by:\n"
      ]
    },
    {
      "cell_type": "code",
      "metadata": {
        "id": "lN-DGOjtSS71",
        "colab_type": "code",
        "colab": {
          "base_uri": "https://localhost:8080/",
          "height": 206
        },
        "outputId": "c9903beb-cc8e-48c1-b336-a69e712d3a43"
      },
      "source": [
        "%%bigquery --project surfsapp-8011b\n",
        "\n",
        "SELECT\n",
        "  campaign,\n",
        "  count(CustomerID) AS unique_userids,\n",
        "  sum(sessions) AS sessions,\n",
        "  sum(transactions) AS transactions,\n",
        "  sum(transactionrevenue) AS revenue\n",
        "FROM `surfsapp-8011b.google_analytics.ga_report` ga \n",
        "LEFT JOIN `surfsapp-8011b.nop_database.customer_data` crm ON ga.dimension1=CAST(crm.CustomerID AS string)\n",
        "GROUP BY campaign"
      ],
      "execution_count": 13,
      "outputs": [
        {
          "output_type": "execute_result",
          "data": {
            "text/html": [
              "<div>\n",
              "<style scoped>\n",
              "    .dataframe tbody tr th:only-of-type {\n",
              "        vertical-align: middle;\n",
              "    }\n",
              "\n",
              "    .dataframe tbody tr th {\n",
              "        vertical-align: top;\n",
              "    }\n",
              "\n",
              "    .dataframe thead th {\n",
              "        text-align: right;\n",
              "    }\n",
              "</style>\n",
              "<table border=\"1\" class=\"dataframe\">\n",
              "  <thead>\n",
              "    <tr style=\"text-align: right;\">\n",
              "      <th></th>\n",
              "      <th>campaign</th>\n",
              "      <th>unique_userids</th>\n",
              "      <th>sessions</th>\n",
              "      <th>transactions</th>\n",
              "      <th>revenue</th>\n",
              "    </tr>\n",
              "  </thead>\n",
              "  <tbody>\n",
              "    <tr>\n",
              "      <th>0</th>\n",
              "      <td>(not set)</td>\n",
              "      <td>1818</td>\n",
              "      <td>2115</td>\n",
              "      <td>524</td>\n",
              "      <td>9789796</td>\n",
              "    </tr>\n",
              "    <tr>\n",
              "      <th>1</th>\n",
              "      <td>black_friday</td>\n",
              "      <td>664</td>\n",
              "      <td>842</td>\n",
              "      <td>287</td>\n",
              "      <td>5975023</td>\n",
              "    </tr>\n",
              "    <tr>\n",
              "      <th>2</th>\n",
              "      <td>cyber_monday</td>\n",
              "      <td>332</td>\n",
              "      <td>351</td>\n",
              "      <td>35</td>\n",
              "      <td>390815</td>\n",
              "    </tr>\n",
              "    <tr>\n",
              "      <th>3</th>\n",
              "      <td>winter_getaways</td>\n",
              "      <td>50</td>\n",
              "      <td>54</td>\n",
              "      <td>7</td>\n",
              "      <td>52803</td>\n",
              "    </tr>\n",
              "    <tr>\n",
              "      <th>4</th>\n",
              "      <td>superdupersale</td>\n",
              "      <td>613</td>\n",
              "      <td>789</td>\n",
              "      <td>291</td>\n",
              "      <td>6332439</td>\n",
              "    </tr>\n",
              "  </tbody>\n",
              "</table>\n",
              "</div>"
            ],
            "text/plain": [
              "          campaign  unique_userids  sessions  transactions  revenue\n",
              "0        (not set)            1818      2115           524  9789796\n",
              "1     black_friday             664       842           287  5975023\n",
              "2     cyber_monday             332       351            35   390815\n",
              "3  winter_getaways              50        54             7    52803\n",
              "4   superdupersale             613       789           291  6332439"
            ]
          },
          "metadata": {
            "tags": []
          },
          "execution_count": 13
        }
      ]
    },
    {
      "cell_type": "markdown",
      "metadata": {
        "id": "CXWX3I7XXpG2",
        "colab_type": "text"
      },
      "source": [
        "# Having\n",
        "\n",
        "Slutligen kan vi även filtrera rader baserad på aggregerad information med having:"
      ]
    },
    {
      "cell_type": "code",
      "metadata": {
        "id": "Ts7jvTAoXzQy",
        "colab_type": "code",
        "colab": {
          "base_uri": "https://localhost:8080/",
          "height": 175
        },
        "outputId": "55c287af-e1a1-4709-9b7e-ee813d401ae7"
      },
      "source": [
        "%%bigquery --project surfsapp-8011b\n",
        "\n",
        "SELECT\n",
        "  campaign,\n",
        "  count(CustomerID) AS unique_userids,\n",
        "  sum(sessions) AS sessions,\n",
        "  sum(transactions) AS transactions,\n",
        "  sum(transactionrevenue) AS revenue\n",
        "FROM `surfsapp-8011b.google_analytics.ga_report` ga \n",
        "LEFT JOIN `surfsapp-8011b.nop_database.customer_data` crm ON ga.dimension1=CAST(crm.CustomerID AS string)\n",
        "GROUP BY campaign\n",
        "HAVING revenue>100000"
      ],
      "execution_count": 14,
      "outputs": [
        {
          "output_type": "execute_result",
          "data": {
            "text/html": [
              "<div>\n",
              "<style scoped>\n",
              "    .dataframe tbody tr th:only-of-type {\n",
              "        vertical-align: middle;\n",
              "    }\n",
              "\n",
              "    .dataframe tbody tr th {\n",
              "        vertical-align: top;\n",
              "    }\n",
              "\n",
              "    .dataframe thead th {\n",
              "        text-align: right;\n",
              "    }\n",
              "</style>\n",
              "<table border=\"1\" class=\"dataframe\">\n",
              "  <thead>\n",
              "    <tr style=\"text-align: right;\">\n",
              "      <th></th>\n",
              "      <th>campaign</th>\n",
              "      <th>unique_userids</th>\n",
              "      <th>sessions</th>\n",
              "      <th>transactions</th>\n",
              "      <th>revenue</th>\n",
              "    </tr>\n",
              "  </thead>\n",
              "  <tbody>\n",
              "    <tr>\n",
              "      <th>0</th>\n",
              "      <td>superdupersale</td>\n",
              "      <td>613</td>\n",
              "      <td>789</td>\n",
              "      <td>291</td>\n",
              "      <td>6332439</td>\n",
              "    </tr>\n",
              "    <tr>\n",
              "      <th>1</th>\n",
              "      <td>(not set)</td>\n",
              "      <td>1818</td>\n",
              "      <td>2115</td>\n",
              "      <td>524</td>\n",
              "      <td>9789796</td>\n",
              "    </tr>\n",
              "    <tr>\n",
              "      <th>2</th>\n",
              "      <td>black_friday</td>\n",
              "      <td>664</td>\n",
              "      <td>842</td>\n",
              "      <td>287</td>\n",
              "      <td>5975023</td>\n",
              "    </tr>\n",
              "    <tr>\n",
              "      <th>3</th>\n",
              "      <td>cyber_monday</td>\n",
              "      <td>332</td>\n",
              "      <td>351</td>\n",
              "      <td>35</td>\n",
              "      <td>390815</td>\n",
              "    </tr>\n",
              "  </tbody>\n",
              "</table>\n",
              "</div>"
            ],
            "text/plain": [
              "         campaign  unique_userids  sessions  transactions  revenue\n",
              "0  superdupersale             613       789           291  6332439\n",
              "1       (not set)            1818      2115           524  9789796\n",
              "2    black_friday             664       842           287  5975023\n",
              "3    cyber_monday             332       351            35   390815"
            ]
          },
          "metadata": {
            "tags": []
          },
          "execution_count": 14
        }
      ]
    }
  ]
}